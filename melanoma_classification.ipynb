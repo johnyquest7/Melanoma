{
  "nbformat": 4,
  "nbformat_minor": 0,
  "metadata": {
    "colab": {
      "name": "melanoma_classification.ipynb",
      "version": "0.3.2",
      "views": {},
      "default_view": {},
      "provenance": [
        {
          "file_id": "1WB_KFS_v-cUGcQlLCui1zY2yi9_53FRO",
          "timestamp": 1521599432486
        },
        {
          "file_id": "1gxbV3jGpAScBlpDwmunpw9v-KkdDW-Mm",
          "timestamp": 1519788607959
        }
      ],
      "collapsed_sections": []
    },
    "kernelspec": {
      "name": "python3",
      "display_name": "Python 3"
    },
    "accelerator": "GPU"
  },
  "cells": [
    {
      "metadata": {
        "id": "Weolwx_o-XW0",
        "colab_type": "code",
        "colab": {
          "autoexec": {
            "startup": false,
            "wait_interval": 0
          },
          "output_extras": [
            {
              "item_id": 23
            }
          ],
          "base_uri": "https://localhost:8080/",
          "height": 675
        },
        "outputId": "ea3e164d-4563-46a4-f754-2e75ef370dce",
        "executionInfo": {
          "status": "ok",
          "timestamp": 1521599513904,
          "user_tz": 300,
          "elapsed": 21794,
          "user": {
            "displayName": "Endocrine Doctor",
            "photoUrl": "https://lh3.googleusercontent.com/a/default-user=s128",
            "userId": "106981773189993416592"
          }
        }
      },
      "cell_type": "code",
      "source": [
        "# Installing TuriCreate. This is our main package. TuriCreate is open sourced. \n",
        "# You can get more info about TuriCreate at https://github.com/apple/turicreate\n",
        "\n",
        "!pip install turicreate"
      ],
      "execution_count": 1,
      "outputs": [
        {
          "output_type": "stream",
          "text": [
            "Collecting turicreate\n",
            "  Downloading turicreate-4.2-cp36-cp36m-manylinux1_x86_64.whl (82.7MB)\n",
            "\u001b[K    100% |████████████████████████████████| 82.7MB 17kB/s \n",
            "\u001b[?25hCollecting mxnet<1.0.0,>=0.11 (from turicreate)\n",
            "  Downloading mxnet-0.12.1-py2.py3-none-manylinux1_x86_64.whl (25.7MB)\n",
            "\u001b[K    100% |████████████████████████████████| 25.7MB 55kB/s \n",
            "\u001b[?25hRequirement already satisfied: numpy in /usr/local/lib/python3.6/dist-packages (from turicreate)\n",
            "Requirement already satisfied: decorator>=4.0.9 in /usr/local/lib/python3.6/dist-packages (from turicreate)\n",
            "Collecting prettytable==0.7.2 (from turicreate)\n",
            "  Downloading prettytable-0.7.2.zip\n",
            "Requirement already satisfied: pandas>=0.19.0 in /usr/local/lib/python3.6/dist-packages (from turicreate)\n",
            "Requirement already satisfied: pillow>=3.3.0 in /usr/local/lib/python3.6/dist-packages (from turicreate)\n",
            "Requirement already satisfied: requests>=2.9.1 in /usr/local/lib/python3.6/dist-packages (from turicreate)\n",
            "Collecting coremltools==0.8 (from turicreate)\n",
            "  Downloading coremltools-0.8-py3.5-none-manylinux1_x86_64.whl (2.5MB)\n",
            "\u001b[K    100% |████████████████████████████████| 2.5MB 556kB/s \n",
            "\u001b[?25hCollecting graphviz (from mxnet<1.0.0,>=0.11->turicreate)\n",
            "  Downloading graphviz-0.8.2-py2.py3-none-any.whl\n",
            "Requirement already satisfied: python-dateutil>=2 in /usr/local/lib/python3.6/dist-packages (from pandas>=0.19.0->turicreate)\n",
            "Requirement already satisfied: pytz>=2011k in /usr/local/lib/python3.6/dist-packages (from pandas>=0.19.0->turicreate)\n",
            "Requirement already satisfied: olefile in /usr/local/lib/python3.6/dist-packages (from pillow>=3.3.0->turicreate)\n",
            "Requirement already satisfied: certifi>=2017.4.17 in /usr/local/lib/python3.6/dist-packages (from requests>=2.9.1->turicreate)\n",
            "Requirement already satisfied: chardet<3.1.0,>=3.0.2 in /usr/local/lib/python3.6/dist-packages (from requests>=2.9.1->turicreate)\n",
            "Requirement already satisfied: idna<2.7,>=2.5 in /usr/local/lib/python3.6/dist-packages (from requests>=2.9.1->turicreate)\n",
            "Requirement already satisfied: urllib3<1.23,>=1.21.1 in /usr/local/lib/python3.6/dist-packages (from requests>=2.9.1->turicreate)\n",
            "Requirement already satisfied: protobuf>=3.1.0 in /usr/local/lib/python3.6/dist-packages (from coremltools==0.8->turicreate)\n",
            "Collecting six==1.10.0 (from coremltools==0.8->turicreate)\n",
            "  Downloading six-1.10.0-py2.py3-none-any.whl\n",
            "Requirement already satisfied: setuptools in /usr/lib/python3/dist-packages (from protobuf>=3.1.0->coremltools==0.8->turicreate)\n",
            "Building wheels for collected packages: prettytable\n",
            "  Running setup.py bdist_wheel for prettytable ... \u001b[?25l-\b \bdone\n",
            "\u001b[?25h  Stored in directory: /content/.cache/pip/wheels/b6/90/7b/1c22b89217d0eba6d5f406e562365ebee804f0d4595b2bdbcd\n",
            "Successfully built prettytable\n",
            "Installing collected packages: graphviz, mxnet, prettytable, six, coremltools, turicreate\n",
            "  Found existing installation: six 1.11.0\n",
            "    Uninstalling six-1.11.0:\n",
            "      Successfully uninstalled six-1.11.0\n",
            "Successfully installed coremltools-0.8 graphviz-0.8.2 mxnet-0.12.1 prettytable-0.7.2 six-1.10.0 turicreate-4.2\n"
          ],
          "name": "stdout"
        }
      ]
    },
    {
      "metadata": {
        "id": "xZ0sRri2FBZD",
        "colab_type": "text"
      },
      "cell_type": "markdown",
      "source": [
        ""
      ]
    },
    {
      "metadata": {
        "id": "p6r25vQo_1-8",
        "colab_type": "code",
        "colab": {
          "autoexec": {
            "startup": false,
            "wait_interval": 0
          },
          "output_extras": [
            {
              "item_id": 1
            }
          ],
          "base_uri": "https://localhost:8080/",
          "height": 34
        },
        "outputId": "cc000212-b4f1-4cf3-ccb9-1204d20654b1",
        "executionInfo": {
          "status": "ok",
          "timestamp": 1521599523242,
          "user_tz": 300,
          "elapsed": 515,
          "user": {
            "displayName": "Endocrine Doctor",
            "photoUrl": "https://lh3.googleusercontent.com/a/default-user=s128",
            "userId": "106981773189993416592"
          }
        }
      },
      "cell_type": "code",
      "source": [
        "# Finding the directory we are in\n",
        "!ls"
      ],
      "execution_count": 2,
      "outputs": [
        {
          "output_type": "stream",
          "text": [
            "datalab\r\n"
          ],
          "name": "stdout"
        }
      ]
    },
    {
      "metadata": {
        "id": "mDm-xDqJKXTL",
        "colab_type": "text"
      },
      "cell_type": "markdown",
      "source": [
        "Next code block will mount your google drive. This will help you to access files stored in your google drive. \n",
        "Druing installation you see a prompt with a link -Please, open the following URL in a web browser: https://accounts.google.com/o ....\n",
        "Click the link. Copy and paste the code from the link in the form field and press enter. \n",
        "Sometime You may have to run this code block twice. I think this is a bug in colab. "
      ]
    },
    {
      "metadata": {
        "id": "RK-IDnlMKWy7",
        "colab_type": "code",
        "colab": {
          "autoexec": {
            "startup": false,
            "wait_interval": 0
          }
        }
      },
      "cell_type": "code",
      "source": [
        ""
      ],
      "execution_count": 0,
      "outputs": []
    },
    {
      "metadata": {
        "id": "MW6q3iD0E_zK",
        "colab_type": "code",
        "colab": {
          "autoexec": {
            "startup": false,
            "wait_interval": 0
          },
          "output_extras": [
            {
              "item_id": 8
            }
          ],
          "base_uri": "https://localhost:8080/",
          "height": 210
        },
        "outputId": "95450612-1890-4f4b-c14c-6444e034f7a9",
        "executionInfo": {
          "status": "ok",
          "timestamp": 1521599624879,
          "user_tz": 300,
          "elapsed": 27570,
          "user": {
            "displayName": "Endocrine Doctor",
            "photoUrl": "https://lh3.googleusercontent.com/a/default-user=s128",
            "userId": "106981773189993416592"
          }
        }
      },
      "cell_type": "code",
      "source": [
        "!apt-get install -y -qq software-properties-common python-software-properties module-init-tools\n",
        "!add-apt-repository -y ppa:alessandro-strada/ppa 2>&1 > /dev/null\n",
        "!apt-get update -qq 2>&1 > /dev/null\n",
        "!apt-get -y install -qq google-drive-ocamlfuse fuse\n",
        "from google.colab import auth\n",
        "auth.authenticate_user()\n",
        "from oauth2client.client import GoogleCredentials\n",
        "creds = GoogleCredentials.get_application_default()\n",
        "import getpass\n",
        "!google-drive-ocamlfuse -headless -id={creds.client_id} -secret={creds.client_secret} < /dev/null 2>&1 | grep URL\n",
        "vcode = getpass.getpass()\n",
        "!echo {vcode} | google-drive-ocamlfuse -headless -id={creds.client_id} -secret={creds.client_secret}"
      ],
      "execution_count": 4,
      "outputs": [
        {
          "output_type": "stream",
          "text": [
            "gpg: keybox '/tmp/tmpwvt3q__l/pubring.gpg' created\n",
            "gpg: /tmp/tmpwvt3q__l/trustdb.gpg: trustdb created\n",
            "gpg: key AD5F235DF639B041: public key \"Launchpad PPA for Alessandro Strada\" imported\n",
            "gpg: Total number processed: 1\n",
            "gpg:               imported: 1\n",
            "Warning: apt-key output should not be parsed (stdout is not a terminal)\n",
            "Please, open the following URL in a web browser: https://accounts.google.com/o/oauth2/auth?client_id=32555940559.apps.googleusercontent.com&redirect_uri=urn%3Aietf%3Awg%3Aoauth%3A2.0%3Aoob&scope=https%3A%2F%2Fwww.googleapis.com%2Fauth%2Fdrive&response_type=code&access_type=offline&approval_prompt=force\n",
            "··········\n",
            "Please, open the following URL in a web browser: https://accounts.google.com/o/oauth2/auth?client_id=32555940559.apps.googleusercontent.com&redirect_uri=urn%3Aietf%3Awg%3Aoauth%3A2.0%3Aoob&scope=https%3A%2F%2Fwww.googleapis.com%2Fauth%2Fdrive&response_type=code&access_type=offline&approval_prompt=force\n",
            "Please enter the verification code: Access token retrieved correctly.\n"
          ],
          "name": "stdout"
        }
      ]
    },
    {
      "metadata": {
        "id": "QoafsczbH8Wt",
        "colab_type": "code",
        "colab": {
          "autoexec": {
            "startup": false,
            "wait_interval": 0
          }
        }
      },
      "cell_type": "code",
      "source": [
        "# Mount your google drive to access files from it \n",
        "!mkdir -p drive\n",
        "!google-drive-ocamlfuse drive"
      ],
      "execution_count": 0,
      "outputs": []
    },
    {
      "metadata": {
        "id": "TETZgUL1H8F4",
        "colab_type": "code",
        "colab": {
          "autoexec": {
            "startup": false,
            "wait_interval": 0
          }
        }
      },
      "cell_type": "code",
      "source": [
        "# The image folder that I am using for this tutorial is located in my google drive under 'app' folder\n",
        "# So we need to change directory to the 'app' folder\n",
        "\n",
        "import os\n",
        "os.chdir(\"drive/app\")"
      ],
      "execution_count": 0,
      "outputs": []
    },
    {
      "metadata": {
        "id": "bKGEoRTkH7y6",
        "colab_type": "code",
        "colab": {
          "autoexec": {
            "startup": false,
            "wait_interval": 0
          },
          "output_extras": [
            {
              "item_id": 1
            }
          ],
          "base_uri": "https://localhost:8080/",
          "height": 34
        },
        "outputId": "9694539a-152c-4317-bbcc-5e4af41edb6c",
        "executionInfo": {
          "status": "ok",
          "timestamp": 1521599653818,
          "user_tz": 300,
          "elapsed": 696,
          "user": {
            "displayName": "Endocrine Doctor",
            "photoUrl": "https://lh3.googleusercontent.com/a/default-user=s128",
            "userId": "106981773189993416592"
          }
        }
      },
      "cell_type": "code",
      "source": [
        "# make sure that we are in the right folder \n",
        "!ls"
      ],
      "execution_count": 7,
      "outputs": [
        {
          "output_type": "stream",
          "text": [
            "cats-dogs.sframe  ImageFolder  MelanomaImages  wisconsin_breast_cancer.csv\r\n"
          ],
          "name": "stdout"
        }
      ]
    },
    {
      "metadata": {
        "id": "WRB_f_VqIyjh",
        "colab_type": "code",
        "colab": {
          "autoexec": {
            "startup": false,
            "wait_interval": 0
          }
        }
      },
      "cell_type": "code",
      "source": [
        "# importing turicreate as tc\n",
        "\n",
        "import turicreate as tc"
      ],
      "execution_count": 0,
      "outputs": []
    },
    {
      "metadata": {
        "id": "wgIccMR5Fzzd",
        "colab_type": "code",
        "colab": {
          "autoexec": {
            "startup": false,
            "wait_interval": 0
          },
          "output_extras": [
            {
              "item_id": 1
            },
            {
              "item_id": 2
            },
            {
              "item_id": 3
            },
            {
              "item_id": 4
            },
            {
              "item_id": 5
            },
            {
              "item_id": 6
            },
            {
              "item_id": 7
            },
            {
              "item_id": 8
            },
            {
              "item_id": 9
            },
            {
              "item_id": 10
            },
            {
              "item_id": 11
            },
            {
              "item_id": 12
            },
            {
              "item_id": 13
            },
            {
              "item_id": 14
            },
            {
              "item_id": 15
            },
            {
              "item_id": 16
            },
            {
              "item_id": 17
            },
            {
              "item_id": 18
            },
            {
              "item_id": 19
            },
            {
              "item_id": 20
            },
            {
              "item_id": 21
            },
            {
              "item_id": 22
            },
            {
              "item_id": 23
            },
            {
              "item_id": 24
            },
            {
              "item_id": 25
            },
            {
              "item_id": 26
            },
            {
              "item_id": 27
            },
            {
              "item_id": 28
            },
            {
              "item_id": 29
            },
            {
              "item_id": 30
            },
            {
              "item_id": 31
            },
            {
              "item_id": 32
            },
            {
              "item_id": 33
            },
            {
              "item_id": 34
            },
            {
              "item_id": 35
            },
            {
              "item_id": 36
            },
            {
              "item_id": 37
            },
            {
              "item_id": 38
            },
            {
              "item_id": 39
            },
            {
              "item_id": 40
            },
            {
              "item_id": 41
            },
            {
              "item_id": 42
            },
            {
              "item_id": 43
            },
            {
              "item_id": 44
            },
            {
              "item_id": 45
            },
            {
              "item_id": 46
            },
            {
              "item_id": 47
            },
            {
              "item_id": 48
            },
            {
              "item_id": 49
            },
            {
              "item_id": 50
            },
            {
              "item_id": 51
            },
            {
              "item_id": 52
            },
            {
              "item_id": 53
            },
            {
              "item_id": 54
            },
            {
              "item_id": 55
            },
            {
              "item_id": 56
            },
            {
              "item_id": 57
            },
            {
              "item_id": 58
            },
            {
              "item_id": 59
            },
            {
              "item_id": 60
            },
            {
              "item_id": 61
            },
            {
              "item_id": 62
            },
            {
              "item_id": 63
            },
            {
              "item_id": 64
            },
            {
              "item_id": 65
            },
            {
              "item_id": 66
            },
            {
              "item_id": 67
            },
            {
              "item_id": 68
            },
            {
              "item_id": 69
            },
            {
              "item_id": 70
            },
            {
              "item_id": 71
            },
            {
              "item_id": 72
            },
            {
              "item_id": 73
            },
            {
              "item_id": 74
            },
            {
              "item_id": 75
            },
            {
              "item_id": 76
            },
            {
              "item_id": 77
            },
            {
              "item_id": 78
            },
            {
              "item_id": 79
            },
            {
              "item_id": 80
            },
            {
              "item_id": 81
            },
            {
              "item_id": 82
            },
            {
              "item_id": 83
            },
            {
              "item_id": 84
            },
            {
              "item_id": 85
            },
            {
              "item_id": 86
            },
            {
              "item_id": 87
            },
            {
              "item_id": 88
            },
            {
              "item_id": 89
            },
            {
              "item_id": 90
            },
            {
              "item_id": 91
            },
            {
              "item_id": 92
            },
            {
              "item_id": 93
            },
            {
              "item_id": 94
            },
            {
              "item_id": 95
            },
            {
              "item_id": 96
            },
            {
              "item_id": 97
            },
            {
              "item_id": 98
            },
            {
              "item_id": 99
            },
            {
              "item_id": 100
            },
            {
              "item_id": 101
            },
            {
              "item_id": 102
            },
            {
              "item_id": 103
            },
            {
              "item_id": 104
            },
            {
              "item_id": 105
            },
            {
              "item_id": 106
            },
            {
              "item_id": 107
            },
            {
              "item_id": 108
            },
            {
              "item_id": 109
            },
            {
              "item_id": 110
            },
            {
              "item_id": 111
            },
            {
              "item_id": 112
            },
            {
              "item_id": 113
            },
            {
              "item_id": 114
            },
            {
              "item_id": 115
            },
            {
              "item_id": 116
            },
            {
              "item_id": 117
            },
            {
              "item_id": 118
            },
            {
              "item_id": 119
            },
            {
              "item_id": 120
            },
            {
              "item_id": 121
            },
            {
              "item_id": 122
            },
            {
              "item_id": 123
            },
            {
              "item_id": 124
            },
            {
              "item_id": 125
            },
            {
              "item_id": 126
            },
            {
              "item_id": 127
            },
            {
              "item_id": 128
            }
          ],
          "base_uri": "https://localhost:8080/",
          "height": 2235
        },
        "outputId": "10885916-70ac-49a4-f454-ed9c4e3c1039",
        "executionInfo": {
          "status": "ok",
          "timestamp": 1521600401018,
          "user_tz": 300,
          "elapsed": 725466,
          "user": {
            "displayName": "Endocrine Doctor",
            "photoUrl": "https://lh3.googleusercontent.com/a/default-user=s128",
            "userId": "106981773189993416592"
          }
        }
      },
      "cell_type": "code",
      "source": [
        "# Loading the images from MelanomaImages in my google drive. This 'MelanomaImages' has 2 folders\n",
        "# 'melanoma' and 'benign'\n",
        "\n",
        "\n",
        "data = tc.image_analysis.load_images('MelanomaImages', with_path=True)"
      ],
      "execution_count": 9,
      "outputs": [
        {
          "output_type": "display_data",
          "data": {
            "text/html": [
              "<pre>Read 8 images in 5.25382 secs\tspeed: 1.5227 file/sec</pre>"
            ],
            "text/plain": [
              "Read 8 images in 5.25382 secs\tspeed: 1.5227 file/sec"
            ]
          },
          "metadata": {
            "tags": []
          }
        },
        {
          "output_type": "display_data",
          "data": {
            "text/html": [
              "<pre>Read 16 images in 10.4412 secs\tspeed: 1.54221 file/sec</pre>"
            ],
            "text/plain": [
              "Read 16 images in 10.4412 secs\tspeed: 1.54221 file/sec"
            ]
          },
          "metadata": {
            "tags": []
          }
        },
        {
          "output_type": "display_data",
          "data": {
            "text/html": [
              "<pre>Read 25 images in 15.4726 secs\tspeed: 1.78877 file/sec</pre>"
            ],
            "text/plain": [
              "Read 25 images in 15.4726 secs\tspeed: 1.78877 file/sec"
            ]
          },
          "metadata": {
            "tags": []
          }
        },
        {
          "output_type": "display_data",
          "data": {
            "text/html": [
              "<pre>Read 35 images in 20.6277 secs\tspeed: 1.93981 file/sec</pre>"
            ],
            "text/plain": [
              "Read 35 images in 20.6277 secs\tspeed: 1.93981 file/sec"
            ]
          },
          "metadata": {
            "tags": []
          }
        },
        {
          "output_type": "display_data",
          "data": {
            "text/html": [
              "<pre>Read 45 images in 25.7618 secs\tspeed: 1.94775 file/sec</pre>"
            ],
            "text/plain": [
              "Read 45 images in 25.7618 secs\tspeed: 1.94775 file/sec"
            ]
          },
          "metadata": {
            "tags": []
          }
        },
        {
          "output_type": "display_data",
          "data": {
            "text/html": [
              "<pre>Read 54 images in 31.0285 secs\tspeed: 1.70888 file/sec</pre>"
            ],
            "text/plain": [
              "Read 54 images in 31.0285 secs\tspeed: 1.70888 file/sec"
            ]
          },
          "metadata": {
            "tags": []
          }
        },
        {
          "output_type": "display_data",
          "data": {
            "text/html": [
              "<pre>Read 60 images in 36.386 secs\tspeed: 1.11992 file/sec</pre>"
            ],
            "text/plain": [
              "Read 60 images in 36.386 secs\tspeed: 1.11992 file/sec"
            ]
          },
          "metadata": {
            "tags": []
          }
        },
        {
          "output_type": "display_data",
          "data": {
            "text/html": [
              "<pre>Read 68 images in 41.6742 secs\tspeed: 1.51281 file/sec</pre>"
            ],
            "text/plain": [
              "Read 68 images in 41.6742 secs\tspeed: 1.51281 file/sec"
            ]
          },
          "metadata": {
            "tags": []
          }
        },
        {
          "output_type": "display_data",
          "data": {
            "text/html": [
              "<pre>Read 76 images in 47.079 secs\tspeed: 1.48015 file/sec</pre>"
            ],
            "text/plain": [
              "Read 76 images in 47.079 secs\tspeed: 1.48015 file/sec"
            ]
          },
          "metadata": {
            "tags": []
          }
        },
        {
          "output_type": "display_data",
          "data": {
            "text/html": [
              "<pre>Read 83 images in 52.7146 secs\tspeed: 1.2421 file/sec</pre>"
            ],
            "text/plain": [
              "Read 83 images in 52.7146 secs\tspeed: 1.2421 file/sec"
            ]
          },
          "metadata": {
            "tags": []
          }
        },
        {
          "output_type": "display_data",
          "data": {
            "text/html": [
              "<pre>Read 91 images in 58.041 secs\tspeed: 1.50196 file/sec</pre>"
            ],
            "text/plain": [
              "Read 91 images in 58.041 secs\tspeed: 1.50196 file/sec"
            ]
          },
          "metadata": {
            "tags": []
          }
        },
        {
          "output_type": "display_data",
          "data": {
            "text/html": [
              "<pre>Read 98 images in 63.4717 secs\tspeed: 1.28898 file/sec</pre>"
            ],
            "text/plain": [
              "Read 98 images in 63.4717 secs\tspeed: 1.28898 file/sec"
            ]
          },
          "metadata": {
            "tags": []
          }
        },
        {
          "output_type": "display_data",
          "data": {
            "text/html": [
              "<pre>Read 107 images in 68.7451 secs\tspeed: 1.70667 file/sec</pre>"
            ],
            "text/plain": [
              "Read 107 images in 68.7451 secs\tspeed: 1.70667 file/sec"
            ]
          },
          "metadata": {
            "tags": []
          }
        },
        {
          "output_type": "display_data",
          "data": {
            "text/html": [
              "<pre>Read 117 images in 73.8147 secs\tspeed: 1.97252 file/sec</pre>"
            ],
            "text/plain": [
              "Read 117 images in 73.8147 secs\tspeed: 1.97252 file/sec"
            ]
          },
          "metadata": {
            "tags": []
          }
        },
        {
          "output_type": "display_data",
          "data": {
            "text/html": [
              "<pre>Read 127 images in 79.5324 secs\tspeed: 1.74896 file/sec</pre>"
            ],
            "text/plain": [
              "Read 127 images in 79.5324 secs\tspeed: 1.74896 file/sec"
            ]
          },
          "metadata": {
            "tags": []
          }
        },
        {
          "output_type": "display_data",
          "data": {
            "text/html": [
              "<pre>Read 137 images in 84.5586 secs\tspeed: 1.9896 file/sec</pre>"
            ],
            "text/plain": [
              "Read 137 images in 84.5586 secs\tspeed: 1.9896 file/sec"
            ]
          },
          "metadata": {
            "tags": []
          }
        },
        {
          "output_type": "display_data",
          "data": {
            "text/html": [
              "<pre>Read 147 images in 89.8464 secs\tspeed: 1.89114 file/sec</pre>"
            ],
            "text/plain": [
              "Read 147 images in 89.8464 secs\tspeed: 1.89114 file/sec"
            ]
          },
          "metadata": {
            "tags": []
          }
        },
        {
          "output_type": "display_data",
          "data": {
            "text/html": [
              "<pre>Read 155 images in 94.9022 secs\tspeed: 1.58233 file/sec</pre>"
            ],
            "text/plain": [
              "Read 155 images in 94.9022 secs\tspeed: 1.58233 file/sec"
            ]
          },
          "metadata": {
            "tags": []
          }
        },
        {
          "output_type": "display_data",
          "data": {
            "text/html": [
              "<pre>Read 165 images in 100.192 secs\tspeed: 1.89052 file/sec</pre>"
            ],
            "text/plain": [
              "Read 165 images in 100.192 secs\tspeed: 1.89052 file/sec"
            ]
          },
          "metadata": {
            "tags": []
          }
        },
        {
          "output_type": "display_data",
          "data": {
            "text/html": [
              "<pre>Read 175 images in 105.235 secs\tspeed: 1.98296 file/sec</pre>"
            ],
            "text/plain": [
              "Read 175 images in 105.235 secs\tspeed: 1.98296 file/sec"
            ]
          },
          "metadata": {
            "tags": []
          }
        },
        {
          "output_type": "display_data",
          "data": {
            "text/html": [
              "<pre>Read 186 images in 110.258 secs\tspeed: 2.1897 file/sec</pre>"
            ],
            "text/plain": [
              "Read 186 images in 110.258 secs\tspeed: 2.1897 file/sec"
            ]
          },
          "metadata": {
            "tags": []
          }
        },
        {
          "output_type": "display_data",
          "data": {
            "text/html": [
              "<pre>Read 196 images in 115.43 secs\tspeed: 1.9336 file/sec</pre>"
            ],
            "text/plain": [
              "Read 196 images in 115.43 secs\tspeed: 1.9336 file/sec"
            ]
          },
          "metadata": {
            "tags": []
          }
        },
        {
          "output_type": "display_data",
          "data": {
            "text/html": [
              "<pre>Read 206 images in 120.922 secs\tspeed: 1.82092 file/sec</pre>"
            ],
            "text/plain": [
              "Read 206 images in 120.922 secs\tspeed: 1.82092 file/sec"
            ]
          },
          "metadata": {
            "tags": []
          }
        },
        {
          "output_type": "display_data",
          "data": {
            "text/html": [
              "<pre>Read 216 images in 126.3 secs\tspeed: 1.85922 file/sec</pre>"
            ],
            "text/plain": [
              "Read 216 images in 126.3 secs\tspeed: 1.85922 file/sec"
            ]
          },
          "metadata": {
            "tags": []
          }
        },
        {
          "output_type": "display_data",
          "data": {
            "text/html": [
              "<pre>Read 226 images in 131.463 secs\tspeed: 1.93695 file/sec</pre>"
            ],
            "text/plain": [
              "Read 226 images in 131.463 secs\tspeed: 1.93695 file/sec"
            ]
          },
          "metadata": {
            "tags": []
          }
        },
        {
          "output_type": "display_data",
          "data": {
            "text/html": [
              "<pre>Read 233 images in 136.749 secs\tspeed: 1.32416 file/sec</pre>"
            ],
            "text/plain": [
              "Read 233 images in 136.749 secs\tspeed: 1.32416 file/sec"
            ]
          },
          "metadata": {
            "tags": []
          }
        },
        {
          "output_type": "display_data",
          "data": {
            "text/html": [
              "<pre>Read 241 images in 142.167 secs\tspeed: 1.47654 file/sec</pre>"
            ],
            "text/plain": [
              "Read 241 images in 142.167 secs\tspeed: 1.47654 file/sec"
            ]
          },
          "metadata": {
            "tags": []
          }
        },
        {
          "output_type": "display_data",
          "data": {
            "text/html": [
              "<pre>Read 250 images in 148.114 secs\tspeed: 1.51345 file/sec</pre>"
            ],
            "text/plain": [
              "Read 250 images in 148.114 secs\tspeed: 1.51345 file/sec"
            ]
          },
          "metadata": {
            "tags": []
          }
        },
        {
          "output_type": "display_data",
          "data": {
            "text/html": [
              "<pre>Read 257 images in 153.425 secs\tspeed: 1.31803 file/sec</pre>"
            ],
            "text/plain": [
              "Read 257 images in 153.425 secs\tspeed: 1.31803 file/sec"
            ]
          },
          "metadata": {
            "tags": []
          }
        },
        {
          "output_type": "display_data",
          "data": {
            "text/html": [
              "<pre>Read 265 images in 158.754 secs\tspeed: 1.50135 file/sec</pre>"
            ],
            "text/plain": [
              "Read 265 images in 158.754 secs\tspeed: 1.50135 file/sec"
            ]
          },
          "metadata": {
            "tags": []
          }
        },
        {
          "output_type": "display_data",
          "data": {
            "text/html": [
              "<pre>Read 273 images in 164.042 secs\tspeed: 1.5128 file/sec</pre>"
            ],
            "text/plain": [
              "Read 273 images in 164.042 secs\tspeed: 1.5128 file/sec"
            ]
          },
          "metadata": {
            "tags": []
          }
        },
        {
          "output_type": "display_data",
          "data": {
            "text/html": [
              "<pre>Read 283 images in 169.685 secs\tspeed: 1.77209 file/sec</pre>"
            ],
            "text/plain": [
              "Read 283 images in 169.685 secs\tspeed: 1.77209 file/sec"
            ]
          },
          "metadata": {
            "tags": []
          }
        },
        {
          "output_type": "display_data",
          "data": {
            "text/html": [
              "<pre>Read 290 images in 175.183 secs\tspeed: 1.27324 file/sec</pre>"
            ],
            "text/plain": [
              "Read 290 images in 175.183 secs\tspeed: 1.27324 file/sec"
            ]
          },
          "metadata": {
            "tags": []
          }
        },
        {
          "output_type": "display_data",
          "data": {
            "text/html": [
              "<pre>Read 294 images in 182.177 secs\tspeed: 0.571923 file/sec</pre>"
            ],
            "text/plain": [
              "Read 294 images in 182.177 secs\tspeed: 0.571923 file/sec"
            ]
          },
          "metadata": {
            "tags": []
          }
        },
        {
          "output_type": "display_data",
          "data": {
            "text/html": [
              "<pre>Read 300 images in 187.316 secs\tspeed: 1.16746 file/sec</pre>"
            ],
            "text/plain": [
              "Read 300 images in 187.316 secs\tspeed: 1.16746 file/sec"
            ]
          },
          "metadata": {
            "tags": []
          }
        },
        {
          "output_type": "display_data",
          "data": {
            "text/html": [
              "<pre>Read 307 images in 192.474 secs\tspeed: 1.35705 file/sec</pre>"
            ],
            "text/plain": [
              "Read 307 images in 192.474 secs\tspeed: 1.35705 file/sec"
            ]
          },
          "metadata": {
            "tags": []
          }
        },
        {
          "output_type": "display_data",
          "data": {
            "text/html": [
              "<pre>Read 315 images in 197.604 secs\tspeed: 1.55966 file/sec</pre>"
            ],
            "text/plain": [
              "Read 315 images in 197.604 secs\tspeed: 1.55966 file/sec"
            ]
          },
          "metadata": {
            "tags": []
          }
        },
        {
          "output_type": "display_data",
          "data": {
            "text/html": [
              "<pre>Read 323 images in 202.757 secs\tspeed: 1.55244 file/sec</pre>"
            ],
            "text/plain": [
              "Read 323 images in 202.757 secs\tspeed: 1.55244 file/sec"
            ]
          },
          "metadata": {
            "tags": []
          }
        },
        {
          "output_type": "display_data",
          "data": {
            "text/html": [
              "<pre>Read 333 images in 213.719 secs\tspeed: 0.912178 file/sec</pre>"
            ],
            "text/plain": [
              "Read 333 images in 213.719 secs\tspeed: 0.912178 file/sec"
            ]
          },
          "metadata": {
            "tags": []
          }
        },
        {
          "output_type": "display_data",
          "data": {
            "text/html": [
              "<pre>Read 336 images in 218.739 secs\tspeed: 0.597714 file/sec</pre>"
            ],
            "text/plain": [
              "Read 336 images in 218.739 secs\tspeed: 0.597714 file/sec"
            ]
          },
          "metadata": {
            "tags": []
          }
        },
        {
          "output_type": "display_data",
          "data": {
            "text/html": [
              "<pre>Read 346 images in 224.212 secs\tspeed: 1.8271 file/sec</pre>"
            ],
            "text/plain": [
              "Read 346 images in 224.212 secs\tspeed: 1.8271 file/sec"
            ]
          },
          "metadata": {
            "tags": []
          }
        },
        {
          "output_type": "display_data",
          "data": {
            "text/html": [
              "<pre>Read 355 images in 229.319 secs\tspeed: 1.76217 file/sec</pre>"
            ],
            "text/plain": [
              "Read 355 images in 229.319 secs\tspeed: 1.76217 file/sec"
            ]
          },
          "metadata": {
            "tags": []
          }
        },
        {
          "output_type": "display_data",
          "data": {
            "text/html": [
              "<pre>Read 363 images in 234.49 secs\tspeed: 1.54726 file/sec</pre>"
            ],
            "text/plain": [
              "Read 363 images in 234.49 secs\tspeed: 1.54726 file/sec"
            ]
          },
          "metadata": {
            "tags": []
          }
        },
        {
          "output_type": "display_data",
          "data": {
            "text/html": [
              "<pre>Read 371 images in 239.623 secs\tspeed: 1.55845 file/sec</pre>"
            ],
            "text/plain": [
              "Read 371 images in 239.623 secs\tspeed: 1.55845 file/sec"
            ]
          },
          "metadata": {
            "tags": []
          }
        },
        {
          "output_type": "display_data",
          "data": {
            "text/html": [
              "<pre>Read 382 images in 244.907 secs\tspeed: 2.08185 file/sec</pre>"
            ],
            "text/plain": [
              "Read 382 images in 244.907 secs\tspeed: 2.08185 file/sec"
            ]
          },
          "metadata": {
            "tags": []
          }
        },
        {
          "output_type": "display_data",
          "data": {
            "text/html": [
              "<pre>Read 393 images in 250.226 secs\tspeed: 2.06801 file/sec</pre>"
            ],
            "text/plain": [
              "Read 393 images in 250.226 secs\tspeed: 2.06801 file/sec"
            ]
          },
          "metadata": {
            "tags": []
          }
        },
        {
          "output_type": "display_data",
          "data": {
            "text/html": [
              "<pre>Read 403 images in 255.243 secs\tspeed: 1.99315 file/sec</pre>"
            ],
            "text/plain": [
              "Read 403 images in 255.243 secs\tspeed: 1.99315 file/sec"
            ]
          },
          "metadata": {
            "tags": []
          }
        },
        {
          "output_type": "display_data",
          "data": {
            "text/html": [
              "<pre>Read 413 images in 260.433 secs\tspeed: 1.92685 file/sec</pre>"
            ],
            "text/plain": [
              "Read 413 images in 260.433 secs\tspeed: 1.92685 file/sec"
            ]
          },
          "metadata": {
            "tags": []
          }
        },
        {
          "output_type": "display_data",
          "data": {
            "text/html": [
              "<pre>Read 422 images in 266.381 secs\tspeed: 1.51312 file/sec</pre>"
            ],
            "text/plain": [
              "Read 422 images in 266.381 secs\tspeed: 1.51312 file/sec"
            ]
          },
          "metadata": {
            "tags": []
          }
        },
        {
          "output_type": "display_data",
          "data": {
            "text/html": [
              "<pre>Read 429 images in 272.878 secs\tspeed: 1.07731 file/sec</pre>"
            ],
            "text/plain": [
              "Read 429 images in 272.878 secs\tspeed: 1.07731 file/sec"
            ]
          },
          "metadata": {
            "tags": []
          }
        },
        {
          "output_type": "display_data",
          "data": {
            "text/html": [
              "<pre>Read 437 images in 278.172 secs\tspeed: 1.51117 file/sec</pre>"
            ],
            "text/plain": [
              "Read 437 images in 278.172 secs\tspeed: 1.51117 file/sec"
            ]
          },
          "metadata": {
            "tags": []
          }
        },
        {
          "output_type": "display_data",
          "data": {
            "text/html": [
              "<pre>Read 447 images in 283.611 secs\tspeed: 1.83869 file/sec</pre>"
            ],
            "text/plain": [
              "Read 447 images in 283.611 secs\tspeed: 1.83869 file/sec"
            ]
          },
          "metadata": {
            "tags": []
          }
        },
        {
          "output_type": "display_data",
          "data": {
            "text/html": [
              "<pre>Read 457 images in 289.037 secs\tspeed: 1.84293 file/sec</pre>"
            ],
            "text/plain": [
              "Read 457 images in 289.037 secs\tspeed: 1.84293 file/sec"
            ]
          },
          "metadata": {
            "tags": []
          }
        },
        {
          "output_type": "display_data",
          "data": {
            "text/html": [
              "<pre>Read 468 images in 294.416 secs\tspeed: 2.04522 file/sec</pre>"
            ],
            "text/plain": [
              "Read 468 images in 294.416 secs\tspeed: 2.04522 file/sec"
            ]
          },
          "metadata": {
            "tags": []
          }
        },
        {
          "output_type": "display_data",
          "data": {
            "text/html": [
              "<pre>Read 478 images in 299.464 secs\tspeed: 1.98069 file/sec</pre>"
            ],
            "text/plain": [
              "Read 478 images in 299.464 secs\tspeed: 1.98069 file/sec"
            ]
          },
          "metadata": {
            "tags": []
          }
        },
        {
          "output_type": "display_data",
          "data": {
            "text/html": [
              "<pre>Read 488 images in 304.804 secs\tspeed: 1.87279 file/sec</pre>"
            ],
            "text/plain": [
              "Read 488 images in 304.804 secs\tspeed: 1.87279 file/sec"
            ]
          },
          "metadata": {
            "tags": []
          }
        },
        {
          "output_type": "display_data",
          "data": {
            "text/html": [
              "<pre>Read 498 images in 310.167 secs\tspeed: 1.86473 file/sec</pre>"
            ],
            "text/plain": [
              "Read 498 images in 310.167 secs\tspeed: 1.86473 file/sec"
            ]
          },
          "metadata": {
            "tags": []
          }
        },
        {
          "output_type": "display_data",
          "data": {
            "text/html": [
              "<pre>Read 504 images in 316.481 secs\tspeed: 0.950282 file/sec</pre>"
            ],
            "text/plain": [
              "Read 504 images in 316.481 secs\tspeed: 0.950282 file/sec"
            ]
          },
          "metadata": {
            "tags": []
          }
        },
        {
          "output_type": "display_data",
          "data": {
            "text/html": [
              "<pre>Read 507 images in 331.296 secs\tspeed: 0.202498 file/sec</pre>"
            ],
            "text/plain": [
              "Read 507 images in 331.296 secs\tspeed: 0.202498 file/sec"
            ]
          },
          "metadata": {
            "tags": []
          }
        },
        {
          "output_type": "display_data",
          "data": {
            "text/html": [
              "<pre>Read 515 images in 336.501 secs\tspeed: 1.53685 file/sec</pre>"
            ],
            "text/plain": [
              "Read 515 images in 336.501 secs\tspeed: 1.53685 file/sec"
            ]
          },
          "metadata": {
            "tags": []
          }
        },
        {
          "output_type": "display_data",
          "data": {
            "text/html": [
              "<pre>Read 524 images in 341.681 secs\tspeed: 1.7376 file/sec</pre>"
            ],
            "text/plain": [
              "Read 524 images in 341.681 secs\tspeed: 1.7376 file/sec"
            ]
          },
          "metadata": {
            "tags": []
          }
        },
        {
          "output_type": "display_data",
          "data": {
            "text/html": [
              "<pre>Read 533 images in 346.746 secs\tspeed: 1.77664 file/sec</pre>"
            ],
            "text/plain": [
              "Read 533 images in 346.746 secs\tspeed: 1.77664 file/sec"
            ]
          },
          "metadata": {
            "tags": []
          }
        },
        {
          "output_type": "display_data",
          "data": {
            "text/html": [
              "<pre>Read 542 images in 352.271 secs\tspeed: 1.62898 file/sec</pre>"
            ],
            "text/plain": [
              "Read 542 images in 352.271 secs\tspeed: 1.62898 file/sec"
            ]
          },
          "metadata": {
            "tags": []
          }
        },
        {
          "output_type": "display_data",
          "data": {
            "text/html": [
              "<pre>Read 551 images in 357.799 secs\tspeed: 1.62819 file/sec</pre>"
            ],
            "text/plain": [
              "Read 551 images in 357.799 secs\tspeed: 1.62819 file/sec"
            ]
          },
          "metadata": {
            "tags": []
          }
        },
        {
          "output_type": "display_data",
          "data": {
            "text/html": [
              "<pre>Read 560 images in 362.836 secs\tspeed: 1.78673 file/sec</pre>"
            ],
            "text/plain": [
              "Read 560 images in 362.836 secs\tspeed: 1.78673 file/sec"
            ]
          },
          "metadata": {
            "tags": []
          }
        },
        {
          "output_type": "display_data",
          "data": {
            "text/html": [
              "<pre>Read 568 images in 368.355 secs\tspeed: 1.44943 file/sec</pre>"
            ],
            "text/plain": [
              "Read 568 images in 368.355 secs\tspeed: 1.44943 file/sec"
            ]
          },
          "metadata": {
            "tags": []
          }
        },
        {
          "output_type": "display_data",
          "data": {
            "text/html": [
              "<pre>Read 575 images in 373.882 secs\tspeed: 1.26653 file/sec</pre>"
            ],
            "text/plain": [
              "Read 575 images in 373.882 secs\tspeed: 1.26653 file/sec"
            ]
          },
          "metadata": {
            "tags": []
          }
        },
        {
          "output_type": "display_data",
          "data": {
            "text/html": [
              "<pre>Read 583 images in 379.191 secs\tspeed: 1.50702 file/sec</pre>"
            ],
            "text/plain": [
              "Read 583 images in 379.191 secs\tspeed: 1.50702 file/sec"
            ]
          },
          "metadata": {
            "tags": []
          }
        },
        {
          "output_type": "display_data",
          "data": {
            "text/html": [
              "<pre>Read 592 images in 384.684 secs\tspeed: 1.63836 file/sec</pre>"
            ],
            "text/plain": [
              "Read 592 images in 384.684 secs\tspeed: 1.63836 file/sec"
            ]
          },
          "metadata": {
            "tags": []
          }
        },
        {
          "output_type": "display_data",
          "data": {
            "text/html": [
              "<pre>Read 601 images in 390.177 secs\tspeed: 1.63855 file/sec</pre>"
            ],
            "text/plain": [
              "Read 601 images in 390.177 secs\tspeed: 1.63855 file/sec"
            ]
          },
          "metadata": {
            "tags": []
          }
        },
        {
          "output_type": "display_data",
          "data": {
            "text/html": [
              "<pre>Read 609 images in 395.395 secs\tspeed: 1.53312 file/sec</pre>"
            ],
            "text/plain": [
              "Read 609 images in 395.395 secs\tspeed: 1.53312 file/sec"
            ]
          },
          "metadata": {
            "tags": []
          }
        },
        {
          "output_type": "display_data",
          "data": {
            "text/html": [
              "<pre>Read 618 images in 400.729 secs\tspeed: 1.6873 file/sec</pre>"
            ],
            "text/plain": [
              "Read 618 images in 400.729 secs\tspeed: 1.6873 file/sec"
            ]
          },
          "metadata": {
            "tags": []
          }
        },
        {
          "output_type": "display_data",
          "data": {
            "text/html": [
              "<pre>Read 625 images in 406.119 secs\tspeed: 1.29875 file/sec</pre>"
            ],
            "text/plain": [
              "Read 625 images in 406.119 secs\tspeed: 1.29875 file/sec"
            ]
          },
          "metadata": {
            "tags": []
          }
        },
        {
          "output_type": "display_data",
          "data": {
            "text/html": [
              "<pre>Read 632 images in 411.301 secs\tspeed: 1.35063 file/sec</pre>"
            ],
            "text/plain": [
              "Read 632 images in 411.301 secs\tspeed: 1.35063 file/sec"
            ]
          },
          "metadata": {
            "tags": []
          }
        },
        {
          "output_type": "display_data",
          "data": {
            "text/html": [
              "<pre>Read 639 images in 416.312 secs\tspeed: 1.39712 file/sec</pre>"
            ],
            "text/plain": [
              "Read 639 images in 416.312 secs\tspeed: 1.39712 file/sec"
            ]
          },
          "metadata": {
            "tags": []
          }
        },
        {
          "output_type": "display_data",
          "data": {
            "text/html": [
              "<pre>Read 648 images in 422 secs\tspeed: 1.58229 file/sec</pre>"
            ],
            "text/plain": [
              "Read 648 images in 422 secs\tspeed: 1.58229 file/sec"
            ]
          },
          "metadata": {
            "tags": []
          }
        },
        {
          "output_type": "display_data",
          "data": {
            "text/html": [
              "<pre>Read 658 images in 427.176 secs\tspeed: 1.93192 file/sec</pre>"
            ],
            "text/plain": [
              "Read 658 images in 427.176 secs\tspeed: 1.93192 file/sec"
            ]
          },
          "metadata": {
            "tags": []
          }
        },
        {
          "output_type": "display_data",
          "data": {
            "text/html": [
              "<pre>Read 664 images in 433.43 secs\tspeed: 0.959306 file/sec</pre>"
            ],
            "text/plain": [
              "Read 664 images in 433.43 secs\tspeed: 0.959306 file/sec"
            ]
          },
          "metadata": {
            "tags": []
          }
        },
        {
          "output_type": "display_data",
          "data": {
            "text/html": [
              "<pre>Read 673 images in 438.691 secs\tspeed: 1.71091 file/sec</pre>"
            ],
            "text/plain": [
              "Read 673 images in 438.691 secs\tspeed: 1.71091 file/sec"
            ]
          },
          "metadata": {
            "tags": []
          }
        },
        {
          "output_type": "display_data",
          "data": {
            "text/html": [
              "<pre>Read 682 images in 444.09 secs\tspeed: 1.66678 file/sec</pre>"
            ],
            "text/plain": [
              "Read 682 images in 444.09 secs\tspeed: 1.66678 file/sec"
            ]
          },
          "metadata": {
            "tags": []
          }
        },
        {
          "output_type": "display_data",
          "data": {
            "text/html": [
              "<pre>Read 690 images in 449.583 secs\tspeed: 1.45645 file/sec</pre>"
            ],
            "text/plain": [
              "Read 690 images in 449.583 secs\tspeed: 1.45645 file/sec"
            ]
          },
          "metadata": {
            "tags": []
          }
        },
        {
          "output_type": "display_data",
          "data": {
            "text/html": [
              "<pre>Read 699 images in 455.594 secs\tspeed: 1.49736 file/sec</pre>"
            ],
            "text/plain": [
              "Read 699 images in 455.594 secs\tspeed: 1.49736 file/sec"
            ]
          },
          "metadata": {
            "tags": []
          }
        },
        {
          "output_type": "display_data",
          "data": {
            "text/html": [
              "<pre>Read 703 images in 460.624 secs\tspeed: 0.795136 file/sec</pre>"
            ],
            "text/plain": [
              "Read 703 images in 460.624 secs\tspeed: 0.795136 file/sec"
            ]
          },
          "metadata": {
            "tags": []
          }
        },
        {
          "output_type": "display_data",
          "data": {
            "text/html": [
              "<pre>Read 712 images in 465.868 secs\tspeed: 1.71633 file/sec</pre>"
            ],
            "text/plain": [
              "Read 712 images in 465.868 secs\tspeed: 1.71633 file/sec"
            ]
          },
          "metadata": {
            "tags": []
          }
        },
        {
          "output_type": "display_data",
          "data": {
            "text/html": [
              "<pre>Read 720 images in 470.992 secs\tspeed: 1.56126 file/sec</pre>"
            ],
            "text/plain": [
              "Read 720 images in 470.992 secs\tspeed: 1.56126 file/sec"
            ]
          },
          "metadata": {
            "tags": []
          }
        },
        {
          "output_type": "display_data",
          "data": {
            "text/html": [
              "<pre>Read 729 images in 476.195 secs\tspeed: 1.72988 file/sec</pre>"
            ],
            "text/plain": [
              "Read 729 images in 476.195 secs\tspeed: 1.72988 file/sec"
            ]
          },
          "metadata": {
            "tags": []
          }
        },
        {
          "output_type": "display_data",
          "data": {
            "text/html": [
              "<pre>Read 737 images in 481.687 secs\tspeed: 1.45666 file/sec</pre>"
            ],
            "text/plain": [
              "Read 737 images in 481.687 secs\tspeed: 1.45666 file/sec"
            ]
          },
          "metadata": {
            "tags": []
          }
        },
        {
          "output_type": "display_data",
          "data": {
            "text/html": [
              "<pre>Read 746 images in 486.904 secs\tspeed: 1.72491 file/sec</pre>"
            ],
            "text/plain": [
              "Read 746 images in 486.904 secs\tspeed: 1.72491 file/sec"
            ]
          },
          "metadata": {
            "tags": []
          }
        },
        {
          "output_type": "display_data",
          "data": {
            "text/html": [
              "<pre>Read 754 images in 491.948 secs\tspeed: 1.5863 file/sec</pre>"
            ],
            "text/plain": [
              "Read 754 images in 491.948 secs\tspeed: 1.5863 file/sec"
            ]
          },
          "metadata": {
            "tags": []
          }
        },
        {
          "output_type": "display_data",
          "data": {
            "text/html": [
              "<pre>Read 759 images in 497.427 secs\tspeed: 0.912506 file/sec</pre>"
            ],
            "text/plain": [
              "Read 759 images in 497.427 secs\tspeed: 0.912506 file/sec"
            ]
          },
          "metadata": {
            "tags": []
          }
        },
        {
          "output_type": "display_data",
          "data": {
            "text/html": [
              "<pre>Read 764 images in 503.381 secs\tspeed: 0.839819 file/sec</pre>"
            ],
            "text/plain": [
              "Read 764 images in 503.381 secs\tspeed: 0.839819 file/sec"
            ]
          },
          "metadata": {
            "tags": []
          }
        },
        {
          "output_type": "display_data",
          "data": {
            "text/html": [
              "<pre>Read 769 images in 508.624 secs\tspeed: 0.953534 file/sec</pre>"
            ],
            "text/plain": [
              "Read 769 images in 508.624 secs\tspeed: 0.953534 file/sec"
            ]
          },
          "metadata": {
            "tags": []
          }
        },
        {
          "output_type": "display_data",
          "data": {
            "text/html": [
              "<pre>Read 775 images in 514.291 secs\tspeed: 1.0588 file/sec</pre>"
            ],
            "text/plain": [
              "Read 775 images in 514.291 secs\tspeed: 1.0588 file/sec"
            ]
          },
          "metadata": {
            "tags": []
          }
        },
        {
          "output_type": "display_data",
          "data": {
            "text/html": [
              "<pre>Read 779 images in 519.455 secs\tspeed: 0.774578 file/sec</pre>"
            ],
            "text/plain": [
              "Read 779 images in 519.455 secs\tspeed: 0.774578 file/sec"
            ]
          },
          "metadata": {
            "tags": []
          }
        },
        {
          "output_type": "display_data",
          "data": {
            "text/html": [
              "<pre>Read 783 images in 525.172 secs\tspeed: 0.699749 file/sec</pre>"
            ],
            "text/plain": [
              "Read 783 images in 525.172 secs\tspeed: 0.699749 file/sec"
            ]
          },
          "metadata": {
            "tags": []
          }
        },
        {
          "output_type": "display_data",
          "data": {
            "text/html": [
              "<pre>Read 788 images in 530.891 secs\tspeed: 0.874154 file/sec</pre>"
            ],
            "text/plain": [
              "Read 788 images in 530.891 secs\tspeed: 0.874154 file/sec"
            ]
          },
          "metadata": {
            "tags": []
          }
        },
        {
          "output_type": "display_data",
          "data": {
            "text/html": [
              "<pre>Read 792 images in 536.355 secs\tspeed: 0.732163 file/sec</pre>"
            ],
            "text/plain": [
              "Read 792 images in 536.355 secs\tspeed: 0.732163 file/sec"
            ]
          },
          "metadata": {
            "tags": []
          }
        },
        {
          "output_type": "display_data",
          "data": {
            "text/html": [
              "<pre>Read 797 images in 541.984 secs\tspeed: 0.888244 file/sec</pre>"
            ],
            "text/plain": [
              "Read 797 images in 541.984 secs\tspeed: 0.888244 file/sec"
            ]
          },
          "metadata": {
            "tags": []
          }
        },
        {
          "output_type": "display_data",
          "data": {
            "text/html": [
              "<pre>Read 801 images in 547.004 secs\tspeed: 0.796799 file/sec</pre>"
            ],
            "text/plain": [
              "Read 801 images in 547.004 secs\tspeed: 0.796799 file/sec"
            ]
          },
          "metadata": {
            "tags": []
          }
        },
        {
          "output_type": "display_data",
          "data": {
            "text/html": [
              "<pre>Read 805 images in 552.122 secs\tspeed: 0.781582 file/sec</pre>"
            ],
            "text/plain": [
              "Read 805 images in 552.122 secs\tspeed: 0.781582 file/sec"
            ]
          },
          "metadata": {
            "tags": []
          }
        },
        {
          "output_type": "display_data",
          "data": {
            "text/html": [
              "<pre>Read 809 images in 557.606 secs\tspeed: 0.72929 file/sec</pre>"
            ],
            "text/plain": [
              "Read 809 images in 557.606 secs\tspeed: 0.72929 file/sec"
            ]
          },
          "metadata": {
            "tags": []
          }
        },
        {
          "output_type": "display_data",
          "data": {
            "text/html": [
              "<pre>Read 814 images in 564.244 secs\tspeed: 0.753341 file/sec</pre>"
            ],
            "text/plain": [
              "Read 814 images in 564.244 secs\tspeed: 0.753341 file/sec"
            ]
          },
          "metadata": {
            "tags": []
          }
        },
        {
          "output_type": "display_data",
          "data": {
            "text/html": [
              "<pre>Read 819 images in 570.14 secs\tspeed: 0.848021 file/sec</pre>"
            ],
            "text/plain": [
              "Read 819 images in 570.14 secs\tspeed: 0.848021 file/sec"
            ]
          },
          "metadata": {
            "tags": []
          }
        },
        {
          "output_type": "display_data",
          "data": {
            "text/html": [
              "<pre>Read 824 images in 575.725 secs\tspeed: 0.895211 file/sec</pre>"
            ],
            "text/plain": [
              "Read 824 images in 575.725 secs\tspeed: 0.895211 file/sec"
            ]
          },
          "metadata": {
            "tags": []
          }
        },
        {
          "output_type": "display_data",
          "data": {
            "text/html": [
              "<pre>Read 828 images in 581.3 secs\tspeed: 0.717495 file/sec</pre>"
            ],
            "text/plain": [
              "Read 828 images in 581.3 secs\tspeed: 0.717495 file/sec"
            ]
          },
          "metadata": {
            "tags": []
          }
        },
        {
          "output_type": "display_data",
          "data": {
            "text/html": [
              "<pre>Read 833 images in 587.316 secs\tspeed: 0.831062 file/sec</pre>"
            ],
            "text/plain": [
              "Read 833 images in 587.316 secs\tspeed: 0.831062 file/sec"
            ]
          },
          "metadata": {
            "tags": []
          }
        },
        {
          "output_type": "display_data",
          "data": {
            "text/html": [
              "<pre>Read 839 images in 593.58 secs\tspeed: 0.957829 file/sec</pre>"
            ],
            "text/plain": [
              "Read 839 images in 593.58 secs\tspeed: 0.957829 file/sec"
            ]
          },
          "metadata": {
            "tags": []
          }
        },
        {
          "output_type": "display_data",
          "data": {
            "text/html": [
              "<pre>Read 844 images in 599.631 secs\tspeed: 0.826432 file/sec</pre>"
            ],
            "text/plain": [
              "Read 844 images in 599.631 secs\tspeed: 0.826432 file/sec"
            ]
          },
          "metadata": {
            "tags": []
          }
        },
        {
          "output_type": "display_data",
          "data": {
            "text/html": [
              "<pre>Read 849 images in 604.727 secs\tspeed: 0.981168 file/sec</pre>"
            ],
            "text/plain": [
              "Read 849 images in 604.727 secs\tspeed: 0.981168 file/sec"
            ]
          },
          "metadata": {
            "tags": []
          }
        },
        {
          "output_type": "display_data",
          "data": {
            "text/html": [
              "<pre>Read 854 images in 609.778 secs\tspeed: 0.989792 file/sec</pre>"
            ],
            "text/plain": [
              "Read 854 images in 609.778 secs\tspeed: 0.989792 file/sec"
            ]
          },
          "metadata": {
            "tags": []
          }
        },
        {
          "output_type": "display_data",
          "data": {
            "text/html": [
              "<pre>Read 855 images in 617.456 secs\tspeed: 0.130247 file/sec</pre>"
            ],
            "text/plain": [
              "Read 855 images in 617.456 secs\tspeed: 0.130247 file/sec"
            ]
          },
          "metadata": {
            "tags": []
          }
        },
        {
          "output_type": "display_data",
          "data": {
            "text/html": [
              "<pre>Read 859 images in 622.986 secs\tspeed: 0.723242 file/sec</pre>"
            ],
            "text/plain": [
              "Read 859 images in 622.986 secs\tspeed: 0.723242 file/sec"
            ]
          },
          "metadata": {
            "tags": []
          }
        },
        {
          "output_type": "display_data",
          "data": {
            "text/html": [
              "<pre>Read 863 images in 628.288 secs\tspeed: 0.754505 file/sec</pre>"
            ],
            "text/plain": [
              "Read 863 images in 628.288 secs\tspeed: 0.754505 file/sec"
            ]
          },
          "metadata": {
            "tags": []
          }
        },
        {
          "output_type": "display_data",
          "data": {
            "text/html": [
              "<pre>Read 868 images in 633.561 secs\tspeed: 0.948201 file/sec</pre>"
            ],
            "text/plain": [
              "Read 868 images in 633.561 secs\tspeed: 0.948201 file/sec"
            ]
          },
          "metadata": {
            "tags": []
          }
        },
        {
          "output_type": "display_data",
          "data": {
            "text/html": [
              "<pre>Read 872 images in 638.723 secs\tspeed: 0.77484 file/sec</pre>"
            ],
            "text/plain": [
              "Read 872 images in 638.723 secs\tspeed: 0.77484 file/sec"
            ]
          },
          "metadata": {
            "tags": []
          }
        },
        {
          "output_type": "display_data",
          "data": {
            "text/html": [
              "<pre>Read 878 images in 644.486 secs\tspeed: 1.04122 file/sec</pre>"
            ],
            "text/plain": [
              "Read 878 images in 644.486 secs\tspeed: 1.04122 file/sec"
            ]
          },
          "metadata": {
            "tags": []
          }
        },
        {
          "output_type": "display_data",
          "data": {
            "text/html": [
              "<pre>Read 883 images in 650.505 secs\tspeed: 0.830716 file/sec</pre>"
            ],
            "text/plain": [
              "Read 883 images in 650.505 secs\tspeed: 0.830716 file/sec"
            ]
          },
          "metadata": {
            "tags": []
          }
        },
        {
          "output_type": "display_data",
          "data": {
            "text/html": [
              "<pre>Read 888 images in 656.367 secs\tspeed: 0.852927 file/sec</pre>"
            ],
            "text/plain": [
              "Read 888 images in 656.367 secs\tspeed: 0.852927 file/sec"
            ]
          },
          "metadata": {
            "tags": []
          }
        },
        {
          "output_type": "display_data",
          "data": {
            "text/html": [
              "<pre>Read 892 images in 663.544 secs\tspeed: 0.557348 file/sec</pre>"
            ],
            "text/plain": [
              "Read 892 images in 663.544 secs\tspeed: 0.557348 file/sec"
            ]
          },
          "metadata": {
            "tags": []
          }
        },
        {
          "output_type": "display_data",
          "data": {
            "text/html": [
              "<pre>Read 895 images in 669.098 secs\tspeed: 0.540085 file/sec</pre>"
            ],
            "text/plain": [
              "Read 895 images in 669.098 secs\tspeed: 0.540085 file/sec"
            ]
          },
          "metadata": {
            "tags": []
          }
        },
        {
          "output_type": "display_data",
          "data": {
            "text/html": [
              "<pre>Read 898 images in 675.841 secs\tspeed: 0.444958 file/sec</pre>"
            ],
            "text/plain": [
              "Read 898 images in 675.841 secs\tspeed: 0.444958 file/sec"
            ]
          },
          "metadata": {
            "tags": []
          }
        },
        {
          "output_type": "display_data",
          "data": {
            "text/html": [
              "<pre>Read 901 images in 682.722 secs\tspeed: 0.435954 file/sec</pre>"
            ],
            "text/plain": [
              "Read 901 images in 682.722 secs\tspeed: 0.435954 file/sec"
            ]
          },
          "metadata": {
            "tags": []
          }
        },
        {
          "output_type": "display_data",
          "data": {
            "text/html": [
              "<pre>Read 904 images in 689.706 secs\tspeed: 0.429551 file/sec</pre>"
            ],
            "text/plain": [
              "Read 904 images in 689.706 secs\tspeed: 0.429551 file/sec"
            ]
          },
          "metadata": {
            "tags": []
          }
        },
        {
          "output_type": "display_data",
          "data": {
            "text/html": [
              "<pre>Read 907 images in 696.141 secs\tspeed: 0.466229 file/sec</pre>"
            ],
            "text/plain": [
              "Read 907 images in 696.141 secs\tspeed: 0.466229 file/sec"
            ]
          },
          "metadata": {
            "tags": []
          }
        },
        {
          "output_type": "display_data",
          "data": {
            "text/html": [
              "<pre>Read 909 images in 701.227 secs\tspeed: 0.393224 file/sec</pre>"
            ],
            "text/plain": [
              "Read 909 images in 701.227 secs\tspeed: 0.393224 file/sec"
            ]
          },
          "metadata": {
            "tags": []
          }
        },
        {
          "output_type": "display_data",
          "data": {
            "text/html": [
              "<pre>Read 912 images in 708.423 secs\tspeed: 0.416914 file/sec</pre>"
            ],
            "text/plain": [
              "Read 912 images in 708.423 secs\tspeed: 0.416914 file/sec"
            ]
          },
          "metadata": {
            "tags": []
          }
        },
        {
          "output_type": "display_data",
          "data": {
            "text/html": [
              "<pre>Read 915 images in 715.142 secs\tspeed: 0.44645 file/sec</pre>"
            ],
            "text/plain": [
              "Read 915 images in 715.142 secs\tspeed: 0.44645 file/sec"
            ]
          },
          "metadata": {
            "tags": []
          }
        },
        {
          "output_type": "display_data",
          "data": {
            "text/html": [
              "<pre>Read 917 images in 720.895 secs\tspeed: 0.34766 file/sec</pre>"
            ],
            "text/plain": [
              "Read 917 images in 720.895 secs\tspeed: 0.34766 file/sec"
            ]
          },
          "metadata": {
            "tags": []
          }
        }
      ]
    },
    {
      "metadata": {
        "id": "mU2kHLIdNgNJ",
        "colab_type": "text"
      },
      "cell_type": "markdown",
      "source": [
        "It took 5 seconds to process the files. "
      ]
    },
    {
      "metadata": {
        "id": "0YNnUEwgGnDk",
        "colab_type": "code",
        "colab": {
          "autoexec": {
            "startup": false,
            "wait_interval": 0
          }
        }
      },
      "cell_type": "code",
      "source": [
        "# Labelling each images in the SFrame using the folder name\n",
        "\n",
        "data['label'] = data['path'].apply(lambda path: 'melanoma' if '/melanoma' in path else 'benign')"
      ],
      "execution_count": 0,
      "outputs": []
    },
    {
      "metadata": {
        "id": "ZuEWrVXfGrfv",
        "colab_type": "code",
        "colab": {
          "autoexec": {
            "startup": false,
            "wait_interval": 0
          },
          "output_extras": [
            {
              "item_id": 1
            }
          ],
          "base_uri": "https://localhost:8080/",
          "height": 421
        },
        "outputId": "e0df3b46-8a90-488c-b3ef-a393ee6b72f9",
        "executionInfo": {
          "status": "ok",
          "timestamp": 1521600470404,
          "user_tz": 300,
          "elapsed": 645,
          "user": {
            "displayName": "Endocrine Doctor",
            "photoUrl": "https://lh3.googleusercontent.com/a/default-user=s128",
            "userId": "106981773189993416592"
          }
        }
      },
      "cell_type": "code",
      "source": [
        "#Displaying the first 5 rows in data to make sure that we got everything right \n",
        "\n",
        "data.tail()"
      ],
      "execution_count": 12,
      "outputs": [
        {
          "output_type": "execute_result",
          "data": {
            "text/html": [
              "<div style=\"max-height:1000px;max-width:1500px;overflow:auto;\"><table frame=\"box\" rules=\"cols\">\n",
              "    <tr>\n",
              "        <th style=\"padding-left: 1em; padding-right: 1em; text-align: center\">path</th>\n",
              "        <th style=\"padding-left: 1em; padding-right: 1em; text-align: center\">image</th>\n",
              "        <th style=\"padding-left: 1em; padding-right: 1em; text-align: center\">label</th>\n",
              "    </tr>\n",
              "    <tr>\n",
              "        <td style=\"padding-left: 1em; padding-right: 1em; text-align: center; vertical-align: top\">/content/drive/app/Melano<br>maImages/melanoma/ISI ...</td>\n",
              "        <td style=\"padding-left: 1em; padding-right: 1em; text-align: center; vertical-align: top\">Height: 4439 Width: 6708</td>\n",
              "        <td style=\"padding-left: 1em; padding-right: 1em; text-align: center; vertical-align: top\">melanoma</td>\n",
              "    </tr>\n",
              "    <tr>\n",
              "        <td style=\"padding-left: 1em; padding-right: 1em; text-align: center; vertical-align: top\">/content/drive/app/Melano<br>maImages/melanoma/ISI ...</td>\n",
              "        <td style=\"padding-left: 1em; padding-right: 1em; text-align: center; vertical-align: top\">Height: 4441 Width: 6661</td>\n",
              "        <td style=\"padding-left: 1em; padding-right: 1em; text-align: center; vertical-align: top\">melanoma</td>\n",
              "    </tr>\n",
              "    <tr>\n",
              "        <td style=\"padding-left: 1em; padding-right: 1em; text-align: center; vertical-align: top\">/content/drive/app/Melano<br>maImages/melanoma/ISI ...</td>\n",
              "        <td style=\"padding-left: 1em; padding-right: 1em; text-align: center; vertical-align: top\">Height: 4401 Width: 6681</td>\n",
              "        <td style=\"padding-left: 1em; padding-right: 1em; text-align: center; vertical-align: top\">melanoma</td>\n",
              "    </tr>\n",
              "    <tr>\n",
              "        <td style=\"padding-left: 1em; padding-right: 1em; text-align: center; vertical-align: top\">/content/drive/app/Melano<br>maImages/melanoma/ISI ...</td>\n",
              "        <td style=\"padding-left: 1em; padding-right: 1em; text-align: center; vertical-align: top\">Height: 4459 Width: 6627</td>\n",
              "        <td style=\"padding-left: 1em; padding-right: 1em; text-align: center; vertical-align: top\">melanoma</td>\n",
              "    </tr>\n",
              "    <tr>\n",
              "        <td style=\"padding-left: 1em; padding-right: 1em; text-align: center; vertical-align: top\">/content/drive/app/Melano<br>maImages/melanoma/ISI ...</td>\n",
              "        <td style=\"padding-left: 1em; padding-right: 1em; text-align: center; vertical-align: top\">Height: 4439 Width: 6668</td>\n",
              "        <td style=\"padding-left: 1em; padding-right: 1em; text-align: center; vertical-align: top\">melanoma</td>\n",
              "    </tr>\n",
              "    <tr>\n",
              "        <td style=\"padding-left: 1em; padding-right: 1em; text-align: center; vertical-align: top\">/content/drive/app/Melano<br>maImages/melanoma/ISI ...</td>\n",
              "        <td style=\"padding-left: 1em; padding-right: 1em; text-align: center; vertical-align: top\">Height: 4419 Width: 6648</td>\n",
              "        <td style=\"padding-left: 1em; padding-right: 1em; text-align: center; vertical-align: top\">melanoma</td>\n",
              "    </tr>\n",
              "    <tr>\n",
              "        <td style=\"padding-left: 1em; padding-right: 1em; text-align: center; vertical-align: top\">/content/drive/app/Melano<br>maImages/melanoma/ISI ...</td>\n",
              "        <td style=\"padding-left: 1em; padding-right: 1em; text-align: center; vertical-align: top\">Height: 4422 Width: 6661</td>\n",
              "        <td style=\"padding-left: 1em; padding-right: 1em; text-align: center; vertical-align: top\">melanoma</td>\n",
              "    </tr>\n",
              "    <tr>\n",
              "        <td style=\"padding-left: 1em; padding-right: 1em; text-align: center; vertical-align: top\">/content/drive/app/Melano<br>maImages/melanoma/ISI ...</td>\n",
              "        <td style=\"padding-left: 1em; padding-right: 1em; text-align: center; vertical-align: top\">Height: 4420 Width: 6641</td>\n",
              "        <td style=\"padding-left: 1em; padding-right: 1em; text-align: center; vertical-align: top\">melanoma</td>\n",
              "    </tr>\n",
              "    <tr>\n",
              "        <td style=\"padding-left: 1em; padding-right: 1em; text-align: center; vertical-align: top\">/content/drive/app/Melano<br>maImages/melanoma/ISI ...</td>\n",
              "        <td style=\"padding-left: 1em; padding-right: 1em; text-align: center; vertical-align: top\">Height: 4441 Width: 6640</td>\n",
              "        <td style=\"padding-left: 1em; padding-right: 1em; text-align: center; vertical-align: top\">melanoma</td>\n",
              "    </tr>\n",
              "    <tr>\n",
              "        <td style=\"padding-left: 1em; padding-right: 1em; text-align: center; vertical-align: top\">/content/drive/app/Melano<br>maImages/melanoma/ISI ...</td>\n",
              "        <td style=\"padding-left: 1em; padding-right: 1em; text-align: center; vertical-align: top\">Height: 4459 Width: 6708</td>\n",
              "        <td style=\"padding-left: 1em; padding-right: 1em; text-align: center; vertical-align: top\">melanoma</td>\n",
              "    </tr>\n",
              "</table>\n",
              "[10 rows x 3 columns]<br/>\n",
              "</div>"
            ],
            "text/plain": [
              "Columns:\n",
              "\tpath\tstr\n",
              "\timage\tImage\n",
              "\tlabel\tstr\n",
              "\n",
              "Rows: 10\n",
              "\n",
              "Data:\n",
              "+-------------------------------+--------------------------+----------+\n",
              "|              path             |          image           |  label   |\n",
              "+-------------------------------+--------------------------+----------+\n",
              "| /content/drive/app/Melanom... | Height: 4439 Width: 6708 | melanoma |\n",
              "| /content/drive/app/Melanom... | Height: 4441 Width: 6661 | melanoma |\n",
              "| /content/drive/app/Melanom... | Height: 4401 Width: 6681 | melanoma |\n",
              "| /content/drive/app/Melanom... | Height: 4459 Width: 6627 | melanoma |\n",
              "| /content/drive/app/Melanom... | Height: 4439 Width: 6668 | melanoma |\n",
              "| /content/drive/app/Melanom... | Height: 4419 Width: 6648 | melanoma |\n",
              "| /content/drive/app/Melanom... | Height: 4422 Width: 6661 | melanoma |\n",
              "| /content/drive/app/Melanom... | Height: 4420 Width: 6641 | melanoma |\n",
              "| /content/drive/app/Melanom... | Height: 4441 Width: 6640 | melanoma |\n",
              "| /content/drive/app/Melanom... | Height: 4459 Width: 6708 | melanoma |\n",
              "+-------------------------------+--------------------------+----------+\n",
              "[10 rows x 3 columns]"
            ]
          },
          "metadata": {
            "tags": []
          },
          "execution_count": 12
        }
      ]
    },
    {
      "metadata": {
        "id": "1x6lnbn_GuJK",
        "colab_type": "code",
        "colab": {
          "autoexec": {
            "startup": false,
            "wait_interval": 0
          }
        }
      },
      "cell_type": "code",
      "source": [
        "# Saving the data frame to our google drive \n",
        "data.save('melanoma.sframe')"
      ],
      "execution_count": 0,
      "outputs": []
    },
    {
      "metadata": {
        "id": "ub9_7HX6G5SP",
        "colab_type": "code",
        "colab": {
          "autoexec": {
            "startup": false,
            "wait_interval": 0
          }
        }
      },
      "cell_type": "code",
      "source": [
        "# Splitting the image data set into training (80%) and testing (20%) data\n",
        "train_data, test_data = data.random_split(0.8)"
      ],
      "execution_count": 0,
      "outputs": []
    },
    {
      "metadata": {
        "id": "TImA_m7xOLHJ",
        "colab_type": "code",
        "colab": {
          "autoexec": {
            "startup": false,
            "wait_interval": 0
          }
        }
      },
      "cell_type": "code",
      "source": [
        "# Switching to the root directory in our google virtual machine\n",
        "os.chdir(\"/usr\")"
      ],
      "execution_count": 0,
      "outputs": []
    },
    {
      "metadata": {
        "id": "DDDdAW_5OdTQ",
        "colab_type": "code",
        "colab": {
          "autoexec": {
            "startup": false,
            "wait_interval": 0
          },
          "output_extras": [
            {
              "item_id": 12
            }
          ],
          "base_uri": "https://localhost:8080/",
          "height": 366
        },
        "outputId": "032b8c34-7b21-43de-8229-2161923893ed",
        "executionInfo": {
          "status": "ok",
          "timestamp": 1521600633287,
          "user_tz": 300,
          "elapsed": 4086,
          "user": {
            "displayName": "Endocrine Doctor",
            "photoUrl": "https://lh3.googleusercontent.com/a/default-user=s128",
            "userId": "106981773189993416592"
          }
        }
      },
      "cell_type": "code",
      "source": [
        "# installing other packahes to use GPU\n",
        "!apt install libnvrtc8.0"
      ],
      "execution_count": 16,
      "outputs": [
        {
          "output_type": "stream",
          "text": [
            "Reading package lists... Done\n",
            "Building dependency tree       \n",
            "Reading state information... Done\n",
            "The following NEW packages will be installed:\n",
            "  libnvrtc8.0\n",
            "0 upgraded, 1 newly installed, 0 to remove and 4 not upgraded.\n",
            "Need to get 6225 kB of archives.\n",
            "After this operation, 28.3 MB of additional disk space will be used.\n",
            "Get:1 http://archive.ubuntu.com/ubuntu artful/multiverse amd64 libnvrtc8.0 amd64 8.0.61-1 [6225 kB]\n",
            "Fetched 6225 kB in 1s (6211 kB/s)\n",
            "\n",
            "\u001b7\u001b[0;23r\u001b8\u001b[1ASelecting previously unselected package libnvrtc8.0:amd64.\n",
            "(Reading database ... 18149 files and directories currently installed.)\n",
            "Preparing to unpack .../libnvrtc8.0_8.0.61-1_amd64.deb ...\n",
            "\u001b7\u001b[24;0f\u001b[42m\u001b[30mProgress: [  0%]\u001b[49m\u001b[39m [..........................................................] \u001b8\u001b7\u001b[24;0f\u001b[42m\u001b[30mProgress: [ 16%]\u001b[49m\u001b[39m [#########.................................................] \u001b8Unpacking libnvrtc8.0:amd64 (8.0.61-1) ...\n",
            "\u001b7\u001b[24;0f\u001b[42m\u001b[30mProgress: [ 33%]\u001b[49m\u001b[39m [###################.......................................] \u001b8\u001b7\u001b[24;0f\u001b[42m\u001b[30mProgress: [ 50%]\u001b[49m\u001b[39m [#############################.............................] \u001b8Setting up libnvrtc8.0:amd64 (8.0.61-1) ...\n",
            "\u001b7\u001b[24;0f\u001b[42m\u001b[30mProgress: [ 66%]\u001b[49m\u001b[39m [######################################....................] \u001b8\u001b7\u001b[24;0f\u001b[42m\u001b[30mProgress: [ 83%]\u001b[49m\u001b[39m [################################################..........] \u001b8Processing triggers for libc-bin (2.26-0ubuntu2.1) ...\n",
            "\n",
            "\u001b7\u001b[0;24r\u001b8\u001b[1A\u001b[J"
          ],
          "name": "stdout"
        }
      ]
    },
    {
      "metadata": {
        "id": "sMMijcQ8OdF5",
        "colab_type": "code",
        "colab": {
          "autoexec": {
            "startup": false,
            "wait_interval": 0
          },
          "output_extras": [
            {
              "item_id": 2
            }
          ],
          "base_uri": "https://localhost:8080/",
          "height": 51
        },
        "outputId": "5e15f0a3-27c5-4a85-8f8c-c356ec713de2",
        "executionInfo": {
          "status": "ok",
          "timestamp": 1521600642163,
          "user_tz": 300,
          "elapsed": 2006,
          "user": {
            "displayName": "Endocrine Doctor",
            "photoUrl": "https://lh3.googleusercontent.com/a/default-user=s128",
            "userId": "106981773189993416592"
          }
        }
      },
      "cell_type": "code",
      "source": [
        "# uninstalling previous versions of mxnet\n",
        "!pip uninstall -y mxnet"
      ],
      "execution_count": 17,
      "outputs": [
        {
          "output_type": "stream",
          "text": [
            "Uninstalling mxnet-0.12.1:\n",
            "  Successfully uninstalled mxnet-0.12.1\n"
          ],
          "name": "stdout"
        }
      ]
    },
    {
      "metadata": {
        "id": "kIePe_6JPRH4",
        "colab_type": "code",
        "colab": {
          "autoexec": {
            "startup": false,
            "wait_interval": 0
          },
          "output_extras": [
            {
              "item_id": 19
            }
          ],
          "base_uri": "https://localhost:8080/",
          "height": 381
        },
        "outputId": "ece90dee-fac2-4be6-ce4a-a884d0deeb00",
        "executionInfo": {
          "status": "ok",
          "timestamp": 1521600658918,
          "user_tz": 300,
          "elapsed": 12824,
          "user": {
            "displayName": "Endocrine Doctor",
            "photoUrl": "https://lh3.googleusercontent.com/a/default-user=s128",
            "userId": "106981773189993416592"
          }
        }
      },
      "cell_type": "code",
      "source": [
        "# Installing the latest version of mxnet to work with turi create\n",
        "!pip install mxnet==1.1.0"
      ],
      "execution_count": 18,
      "outputs": [
        {
          "output_type": "stream",
          "text": [
            "Collecting mxnet==1.1.0\n",
            "  Downloading mxnet-1.1.0-py2.py3-none-manylinux1_x86_64.whl (23.7MB)\n",
            "\u001b[K    100% |################################| 23.8MB 60kB/s \n",
            "\u001b[?25hRequirement already satisfied: requests==2.18.4 in ./local/lib/python3.6/dist-packages (from mxnet==1.1.0)\n",
            "Collecting graphviz==0.8.1 (from mxnet==1.1.0)\n",
            "  Downloading graphviz-0.8.1-py2.py3-none-any.whl\n",
            "Collecting numpy<=1.13.3 (from mxnet==1.1.0)\n",
            "  Downloading numpy-1.13.3-cp36-cp36m-manylinux1_x86_64.whl (17.0MB)\n",
            "\u001b[K    100% |################################| 17.0MB 84kB/s \n",
            "\u001b[?25hRequirement already satisfied: certifi>=2017.4.17 in ./local/lib/python3.6/dist-packages (from requests==2.18.4->mxnet==1.1.0)\n",
            "Requirement already satisfied: urllib3<1.23,>=1.21.1 in ./local/lib/python3.6/dist-packages (from requests==2.18.4->mxnet==1.1.0)\n",
            "Requirement already satisfied: chardet<3.1.0,>=3.0.2 in ./local/lib/python3.6/dist-packages (from requests==2.18.4->mxnet==1.1.0)\n",
            "Requirement already satisfied: idna<2.7,>=2.5 in ./local/lib/python3.6/dist-packages (from requests==2.18.4->mxnet==1.1.0)\n",
            "Installing collected packages: graphviz, numpy, mxnet\n",
            "  Found existing installation: graphviz 0.8.2\n",
            "    Uninstalling graphviz-0.8.2:\n",
            "      Successfully uninstalled graphviz-0.8.2\n",
            "  Found existing installation: numpy 1.14.2\n",
            "    Uninstalling numpy-1.14.2:\n",
            "      Successfully uninstalled numpy-1.14.2\n",
            "Successfully installed graphviz-0.8.1 mxnet-1.1.0 numpy-1.13.3\n"
          ],
          "name": "stdout"
        }
      ]
    },
    {
      "metadata": {
        "id": "ZNLCKas7OUs5",
        "colab_type": "code",
        "colab": {
          "autoexec": {
            "startup": false,
            "wait_interval": 0
          }
        }
      },
      "cell_type": "code",
      "source": [
        "# making sure that mxnet is working\n",
        "# If you get an error here, you need to fix it before going forward\n",
        "import mxnet as m2"
      ],
      "execution_count": 0,
      "outputs": []
    },
    {
      "metadata": {
        "id": "alAuHnRvG6Vr",
        "colab_type": "code",
        "colab": {
          "autoexec": {
            "startup": false,
            "wait_interval": 0
          },
          "output_extras": [
            {
              "item_id": 7
            },
            {
              "item_id": 8
            },
            {
              "item_id": 9
            },
            {
              "item_id": 10
            },
            {
              "item_id": 11
            },
            {
              "item_id": 12
            },
            {
              "item_id": 13
            },
            {
              "item_id": 14
            },
            {
              "item_id": 15
            },
            {
              "item_id": 16
            },
            {
              "item_id": 17
            },
            {
              "item_id": 18
            },
            {
              "item_id": 19
            },
            {
              "item_id": 20
            },
            {
              "item_id": 21
            },
            {
              "item_id": 22
            },
            {
              "item_id": 23
            },
            {
              "item_id": 24
            },
            {
              "item_id": 25
            },
            {
              "item_id": 26
            },
            {
              "item_id": 27
            },
            {
              "item_id": 28
            },
            {
              "item_id": 29
            },
            {
              "item_id": 30
            },
            {
              "item_id": 31
            }
          ],
          "base_uri": "https://localhost:8080/",
          "height": 661
        },
        "outputId": "ad3f744a-1401-4d33-c882-70409463ca05",
        "executionInfo": {
          "status": "ok",
          "timestamp": 1521601052455,
          "user_tz": 300,
          "elapsed": 380430,
          "user": {
            "displayName": "Endocrine Doctor",
            "photoUrl": "https://lh3.googleusercontent.com/a/default-user=s128",
            "userId": "106981773189993416592"
          }
        }
      },
      "cell_type": "code",
      "source": [
        "# Automatically pick the right model based on your data.\n",
        "# Note: Because the dataset is large, model creation may take hours.\n",
        "\n",
        "model = tc.image_classifier.create(train_data, target='label')"
      ],
      "execution_count": 20,
      "outputs": [
        {
          "output_type": "stream",
          "text": [
            "Downloading https://docs-assets.developer.apple.com/turicreate/models/resnet-50-symbol.json\n",
            "Download completed: /var/tmp/model_cache/resnet-50-symbol.json\n",
            "Downloading https://docs-assets.developer.apple.com/turicreate/models/resnet-50-0000.params\n",
            "Download completed: /var/tmp/model_cache/resnet-50-0000.params\n",
            "Resizing images...\n",
            "Performing feature extraction on resized images...\n",
            "Completed 512/734\n",
            "Completed 734/734\n",
            "PROGRESS: Creating a validation set from 5 percent of training data. This may take a while.\n",
            "          You can set ``validation_set=None`` to disable validation tracking.\n",
            "\n"
          ],
          "name": "stdout"
        },
        {
          "output_type": "display_data",
          "data": {
            "text/html": [
              "<pre>WARNING: The number of feature dimensions in this problem is very large in comparison with the number of examples. Unless an appropriate regularization value is set, this model may not provide accurate predictions for a validation/test set.</pre>"
            ],
            "text/plain": [
              "WARNING: The number of feature dimensions in this problem is very large in comparison with the number of examples. Unless an appropriate regularization value is set, this model may not provide accurate predictions for a validation/test set."
            ]
          },
          "metadata": {
            "tags": []
          }
        },
        {
          "output_type": "display_data",
          "data": {
            "text/html": [
              "<pre>WARNING: Detected extremely low variance for feature(s) '__image_features__' because all entries are nearly the same.\n",
              "Proceeding with model training using all features. If the model does not provide results of adequate quality, exclude the above mentioned feature(s) from the input dataset.</pre>"
            ],
            "text/plain": [
              "WARNING: Detected extremely low variance for feature(s) '__image_features__' because all entries are nearly the same.\n",
              "Proceeding with model training using all features. If the model does not provide results of adequate quality, exclude the above mentioned feature(s) from the input dataset."
            ]
          },
          "metadata": {
            "tags": []
          }
        },
        {
          "output_type": "display_data",
          "data": {
            "text/html": [
              "<pre>Logistic regression:</pre>"
            ],
            "text/plain": [
              "Logistic regression:"
            ]
          },
          "metadata": {
            "tags": []
          }
        },
        {
          "output_type": "display_data",
          "data": {
            "text/html": [
              "<pre>--------------------------------------------------------</pre>"
            ],
            "text/plain": [
              "--------------------------------------------------------"
            ]
          },
          "metadata": {
            "tags": []
          }
        },
        {
          "output_type": "display_data",
          "data": {
            "text/html": [
              "<pre>Number of examples          : 699</pre>"
            ],
            "text/plain": [
              "Number of examples          : 699"
            ]
          },
          "metadata": {
            "tags": []
          }
        },
        {
          "output_type": "display_data",
          "data": {
            "text/html": [
              "<pre>Number of classes           : 2</pre>"
            ],
            "text/plain": [
              "Number of classes           : 2"
            ]
          },
          "metadata": {
            "tags": []
          }
        },
        {
          "output_type": "display_data",
          "data": {
            "text/html": [
              "<pre>Number of feature columns   : 1</pre>"
            ],
            "text/plain": [
              "Number of feature columns   : 1"
            ]
          },
          "metadata": {
            "tags": []
          }
        },
        {
          "output_type": "display_data",
          "data": {
            "text/html": [
              "<pre>Number of unpacked features : 2048</pre>"
            ],
            "text/plain": [
              "Number of unpacked features : 2048"
            ]
          },
          "metadata": {
            "tags": []
          }
        },
        {
          "output_type": "display_data",
          "data": {
            "text/html": [
              "<pre>Number of coefficients      : 2049</pre>"
            ],
            "text/plain": [
              "Number of coefficients      : 2049"
            ]
          },
          "metadata": {
            "tags": []
          }
        },
        {
          "output_type": "display_data",
          "data": {
            "text/html": [
              "<pre>Starting L-BFGS</pre>"
            ],
            "text/plain": [
              "Starting L-BFGS"
            ]
          },
          "metadata": {
            "tags": []
          }
        },
        {
          "output_type": "display_data",
          "data": {
            "text/html": [
              "<pre>--------------------------------------------------------</pre>"
            ],
            "text/plain": [
              "--------------------------------------------------------"
            ]
          },
          "metadata": {
            "tags": []
          }
        },
        {
          "output_type": "display_data",
          "data": {
            "text/html": [
              "<pre>+-----------+----------+-----------+--------------+-------------------+---------------------+</pre>"
            ],
            "text/plain": [
              "+-----------+----------+-----------+--------------+-------------------+---------------------+"
            ]
          },
          "metadata": {
            "tags": []
          }
        },
        {
          "output_type": "display_data",
          "data": {
            "text/html": [
              "<pre>| Iteration | Passes   | Step size | Elapsed Time | Training-accuracy | Validation-accuracy |</pre>"
            ],
            "text/plain": [
              "| Iteration | Passes   | Step size | Elapsed Time | Training-accuracy | Validation-accuracy |"
            ]
          },
          "metadata": {
            "tags": []
          }
        },
        {
          "output_type": "display_data",
          "data": {
            "text/html": [
              "<pre>+-----------+----------+-----------+--------------+-------------------+---------------------+</pre>"
            ],
            "text/plain": [
              "+-----------+----------+-----------+--------------+-------------------+---------------------+"
            ]
          },
          "metadata": {
            "tags": []
          }
        },
        {
          "output_type": "display_data",
          "data": {
            "text/html": [
              "<pre>| 1         | 7        | 0.000009  | 1.407496     | 0.589413          | 0.657143            |</pre>"
            ],
            "text/plain": [
              "| 1         | 7        | 0.000009  | 1.407496     | 0.589413          | 0.657143            |"
            ]
          },
          "metadata": {
            "tags": []
          }
        },
        {
          "output_type": "display_data",
          "data": {
            "text/html": [
              "<pre>| 2         | 10       | 5.000000  | 1.614489     | 0.728183          | 0.771429            |</pre>"
            ],
            "text/plain": [
              "| 2         | 10       | 5.000000  | 1.614489     | 0.728183          | 0.771429            |"
            ]
          },
          "metadata": {
            "tags": []
          }
        },
        {
          "output_type": "display_data",
          "data": {
            "text/html": [
              "<pre>| 3         | 11       | 5.000000  | 1.714628     | 0.765379          | 0.714286            |</pre>"
            ],
            "text/plain": [
              "| 3         | 11       | 5.000000  | 1.714628     | 0.765379          | 0.714286            |"
            ]
          },
          "metadata": {
            "tags": []
          }
        },
        {
          "output_type": "display_data",
          "data": {
            "text/html": [
              "<pre>| 4         | 12       | 5.000000  | 1.810076     | 0.589413          | 0.657143            |</pre>"
            ],
            "text/plain": [
              "| 4         | 12       | 5.000000  | 1.810076     | 0.589413          | 0.657143            |"
            ]
          },
          "metadata": {
            "tags": []
          }
        },
        {
          "output_type": "display_data",
          "data": {
            "text/html": [
              "<pre>| 5         | 14       | 1.000000  | 1.960559     | 0.789700          | 0.771429            |</pre>"
            ],
            "text/plain": [
              "| 5         | 14       | 1.000000  | 1.960559     | 0.789700          | 0.771429            |"
            ]
          },
          "metadata": {
            "tags": []
          }
        },
        {
          "output_type": "display_data",
          "data": {
            "text/html": [
              "<pre>| 6         | 15       | 1.000000  | 2.066136     | 0.723891          | 0.685714            |</pre>"
            ],
            "text/plain": [
              "| 6         | 15       | 1.000000  | 2.066136     | 0.723891          | 0.685714            |"
            ]
          },
          "metadata": {
            "tags": []
          }
        },
        {
          "output_type": "display_data",
          "data": {
            "text/html": [
              "<pre>| 10        | 20       | 1.000000  | 2.569017     | 0.831187          | 0.828571            |</pre>"
            ],
            "text/plain": [
              "| 10        | 20       | 1.000000  | 2.569017     | 0.831187          | 0.828571            |"
            ]
          },
          "metadata": {
            "tags": []
          }
        },
        {
          "output_type": "display_data",
          "data": {
            "text/html": [
              "<pre>+-----------+----------+-----------+--------------+-------------------+---------------------+</pre>"
            ],
            "text/plain": [
              "+-----------+----------+-----------+--------------+-------------------+---------------------+"
            ]
          },
          "metadata": {
            "tags": []
          }
        },
        {
          "output_type": "display_data",
          "data": {
            "text/html": [
              "<pre>TERMINATED: Iteration limit reached.</pre>"
            ],
            "text/plain": [
              "TERMINATED: Iteration limit reached."
            ]
          },
          "metadata": {
            "tags": []
          }
        },
        {
          "output_type": "display_data",
          "data": {
            "text/html": [
              "<pre>This model may not be optimal. To improve it, consider increasing `max_iterations`.</pre>"
            ],
            "text/plain": [
              "This model may not be optimal. To improve it, consider increasing `max_iterations`."
            ]
          },
          "metadata": {
            "tags": []
          }
        }
      ]
    },
    {
      "metadata": {
        "id": "GjhQrTTzRxjN",
        "colab_type": "text"
      },
      "cell_type": "markdown",
      "source": [
        "Took only about 7 minutes to do this with GPU!"
      ]
    },
    {
      "metadata": {
        "id": "VzziTY2aG-A5",
        "colab_type": "code",
        "colab": {
          "autoexec": {
            "startup": false,
            "wait_interval": 0
          }
        }
      },
      "cell_type": "code",
      "source": [
        "# storing the prediction \n",
        "\n",
        "predictions = model.predict(test_data)"
      ],
      "execution_count": 0,
      "outputs": []
    },
    {
      "metadata": {
        "id": "clbk_WE7R-q2",
        "colab_type": "code",
        "colab": {
          "autoexec": {
            "startup": false,
            "wait_interval": 0
          },
          "output_extras": [
            {
              "item_id": 3
            }
          ],
          "base_uri": "https://localhost:8080/",
          "height": 86
        },
        "outputId": "49fda9a0-359f-428a-d374-3d66a1561e70",
        "executionInfo": {
          "status": "ok",
          "timestamp": 1521601353680,
          "user_tz": 300,
          "elapsed": 97321,
          "user": {
            "displayName": "Endocrine Doctor",
            "photoUrl": "https://lh3.googleusercontent.com/a/default-user=s128",
            "userId": "106981773189993416592"
          }
        }
      },
      "cell_type": "code",
      "source": [
        "# Evaluating the model \n",
        "\n",
        "metrics = model.evaluate(test_data)\n",
        "print(metrics['accuracy'])"
      ],
      "execution_count": 23,
      "outputs": [
        {
          "output_type": "stream",
          "text": [
            "Resizing images...\n",
            "Performing feature extraction on resized images...\n",
            "Completed 183/183\n",
            "0.825136612021858\n"
          ],
          "name": "stdout"
        }
      ]
    },
    {
      "metadata": {
        "id": "38gNPKZRSrhL",
        "colab_type": "code",
        "colab": {
          "autoexec": {
            "startup": false,
            "wait_interval": 0
          },
          "output_extras": [
            {
              "item_id": 1
            }
          ],
          "base_uri": "https://localhost:8080/",
          "height": 207
        },
        "outputId": "1ba507c4-7500-419e-d7cb-ce1a77d52835",
        "executionInfo": {
          "status": "ok",
          "timestamp": 1521601378853,
          "user_tz": 300,
          "elapsed": 317,
          "user": {
            "displayName": "Endocrine Doctor",
            "photoUrl": "https://lh3.googleusercontent.com/a/default-user=s128",
            "userId": "106981773189993416592"
          }
        }
      },
      "cell_type": "code",
      "source": [
        "# Printing confusion matrix\n",
        "\n",
        "print (\"Confusion Matrix : \\n%s\" % metrics['confusion_matrix'])"
      ],
      "execution_count": 24,
      "outputs": [
        {
          "output_type": "stream",
          "text": [
            "Confusion Matrix : \n",
            "+--------------+-----------------+-------+\n",
            "| target_label | predicted_label | count |\n",
            "+--------------+-----------------+-------+\n",
            "|    benign    |      benign     |  102  |\n",
            "|    benign    |     melanoma    |   7   |\n",
            "|   melanoma   |     melanoma    |   49  |\n",
            "|   melanoma   |      benign     |   25  |\n",
            "+--------------+-----------------+-------+\n",
            "[4 rows x 3 columns]\n",
            "\n"
          ],
          "name": "stdout"
        }
      ]
    },
    {
      "metadata": {
        "id": "FXJqEP6ci6gM",
        "colab_type": "text"
      },
      "cell_type": "markdown",
      "source": [
        "\n",
        "```\n",
        "\n",
        "> Statistic           Value            Confidence interval \n",
        "\n",
        "\n",
        "> Sensitivity         66.22%\t        54.28% to 76.81%\n",
        "\n",
        "\n",
        "\n",
        "> Specificity         93.58 %\t       87.22% to 97.38%\n",
        "\n",
        "\n",
        "> PPV                 87.50%    \t    77.05% to 93.59%\n",
        "\n",
        "\n",
        "> NPV                 80.31 %           74.71% to 84.93%\n",
        "\n",
        "\n",
        "> Accuracy            82.51% \t       76.22% to 87.72%\n",
        "\n",
        "\n",
        "```"
      ]
    },
    {
      "metadata": {
        "id": "Q4GoAum5TP4v",
        "colab_type": "code",
        "colab": {
          "autoexec": {
            "startup": false,
            "wait_interval": 0
          }
        }
      },
      "cell_type": "code",
      "source": [
        "# Save the model for later use in Turi Create\n",
        "model.save('melanoma.model')"
      ],
      "execution_count": 0,
      "outputs": []
    },
    {
      "metadata": {
        "id": "XPdqOGADURz2",
        "colab_type": "code",
        "colab": {
          "autoexec": {
            "startup": false,
            "wait_interval": 0
          },
          "output_extras": [
            {
              "item_id": 2
            }
          ],
          "base_uri": "https://localhost:8080/",
          "height": 141
        },
        "outputId": "fcca8c13-fe87-4bb5-bf34-3c14ce20db8f",
        "executionInfo": {
          "status": "ok",
          "timestamp": 1521601443282,
          "user_tz": 300,
          "elapsed": 22639,
          "user": {
            "displayName": "Endocrine Doctor",
            "photoUrl": "https://lh3.googleusercontent.com/a/default-user=s128",
            "userId": "106981773189993416592"
          }
        }
      },
      "cell_type": "code",
      "source": [
        "# Export for use in Core ML\n",
        "model.export_coreml('MyMelanomaClassifier.mlmodel')"
      ],
      "execution_count": 26,
      "outputs": [
        {
          "output_type": "stream",
          "text": [
            "/usr/local/lib/python3.6/dist-packages/coremltools/_deps/__init__.py:100: DeprecationWarning: The 'warn' function is deprecated, use 'warning' instead\n",
            "  % (keras.__version__, KERAS_MAX_VERSION))\n",
            "WARNING:root:Keras version 2.1.5 detected. Last version known to be fully compatible of Keras is 2.1.3 .\n",
            "/usr/local/lib/python3.6/dist-packages/coremltools/_deps/__init__.py:118: DeprecationWarning: The 'warn' function is deprecated, use 'warning' instead\n",
            "  % (tensorflow.__version__, TF_MAX_VERSION))\n",
            "WARNING:root:TensorFlow version 1.6.0 detected. Last version known to be fully compatible is 1.5.0 .\n"
          ],
          "name": "stderr"
        }
      ]
    },
    {
      "metadata": {
        "id": "6X51lMk0U04m",
        "colab_type": "code",
        "colab": {
          "autoexec": {
            "startup": false,
            "wait_interval": 0
          },
          "output_extras": [
            {
              "item_id": 1
            }
          ],
          "base_uri": "https://localhost:8080/",
          "height": 51
        },
        "outputId": "823d3e54-432f-4e26-b0c1-547cade1ceb8",
        "executionInfo": {
          "status": "ok",
          "timestamp": 1521601450071,
          "user_tz": 300,
          "elapsed": 643,
          "user": {
            "displayName": "Endocrine Doctor",
            "photoUrl": "https://lh3.googleusercontent.com/a/default-user=s128",
            "userId": "106981773189993416592"
          }
        }
      },
      "cell_type": "code",
      "source": [
        "!ls"
      ],
      "execution_count": 27,
      "outputs": [
        {
          "output_type": "stream",
          "text": [
            "MyMelanomaClassifier.mlmodel  games    lib\t     local\t     sbin   src\r\n",
            "bin\t\t\t      include  lib64-nvidia  melanoma.model  share\r\n"
          ],
          "name": "stdout"
        }
      ]
    },
    {
      "metadata": {
        "id": "O6PUln9hWcBQ",
        "colab_type": "code",
        "colab": {
          "autoexec": {
            "startup": false,
            "wait_interval": 0
          }
        }
      },
      "cell_type": "code",
      "source": [
        "# Downloading the model for use in Xcode\n",
        "\n",
        "from google.colab import files\n",
        "\n",
        "files.download('MyMelanomaClassifier.mlmodel')"
      ],
      "execution_count": 0,
      "outputs": []
    },
    {
      "metadata": {
        "id": "lKbWi2xqc1J3",
        "colab_type": "code",
        "colab": {
          "autoexec": {
            "startup": false,
            "wait_interval": 0
          }
        }
      },
      "cell_type": "code",
      "source": [
        ""
      ],
      "execution_count": 0,
      "outputs": []
    }
  ]
}